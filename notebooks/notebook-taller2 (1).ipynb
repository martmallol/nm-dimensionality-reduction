{
 "cells": [
  {
   "cell_type": "markdown",
   "metadata": {
    "colab_type": "text",
    "id": "M4eqA5saeAjo"
   },
   "source": [
    "Taller 2\n",
    "======\n",
    "\n",
    "------\n",
    "\n",
    "El objetivo del taller es ganar un entendimiento más profundo de los temas que entran en el segundo parcial.\n",
    "Por tal motivo, se deben resolver los siguientes ejercicios y responder las preguntas justificando adecuadamente.\n",
    "\n",
    "### Evaluación y entrega\n",
    "\n",
    "- El taller se realiza en grupos de 2 ó 3 personas.\n",
    "- La evaluación será mediante un coloquio con los docentes durante la clase."
   ]
  },
  {
   "cell_type": "code",
   "execution_count": 12,
   "metadata": {},
   "outputs": [],
   "source": [
    "import numpy as np\n",
    "from numpy.linalg import eig\n",
    "import matplotlib.pyplot as plt"
   ]
  },
  {
   "cell_type": "markdown",
   "metadata": {
    "colab_type": "text",
    "id": "OVdAbS66eAjv"
   },
   "source": [
    "## Ejercicio 1\n",
    "Dada la siguiente matriz\n",
    "$$\n",
    "A =\n",
    "\\begin{pmatrix}\n",
    "\t1 & \\sqrt{3} & 0 \\\\\n",
    "\t\\sqrt{3} & 4 & \\sqrt{3}/2 \\\\\n",
    "\t0 & \\sqrt{3}/2 & 7/4\n",
    "\\end{pmatrix}\n",
    "$$\n",
    "\n",
    "Hallar $A = U \\Sigma V^t$ la descomposición en valores singulares de $A$ utilizando únicamente la función [eig](https://docs.scipy.org/doc/numpy/reference/generated/numpy.linalg.eig.html) de Numpy para calcular los autovalores y autovectores necesarios.\n",
    "\n",
    "__Sugerencia__: Considerar alguna propiedad de la matriz que pueda resultar de utilidad para simplificar los cálculos. \n"
   ]
  },
  {
   "cell_type": "code",
   "execution_count": 27,
   "metadata": {
    "colab": {},
    "colab_type": "code",
    "id": "Z8oAs68neAj0"
   },
   "outputs": [],
   "source": [
    "A = np.array([[1,          np.sqrt(3),   0           ],\n",
    "              [np.sqrt(3), 4,            np.sqrt(3)/2],\n",
    "              [0,          np.sqrt(3)/2, 7/4         ]])"
   ]
  },
  {
   "cell_type": "markdown",
   "metadata": {
    "colab": {},
    "colab_type": "code",
    "id": "M6v_M9wweAkF"
   },
   "source": [
    "__Solución__:\n",
    "\n",
    "Notar que $A$ es simétrica.\n",
    "\n",
    "Se sabe que los valores singulares $\\sigma_{i}$ para la SVD de $A$ son las raíces cuadradas de los autovalores $\\lambda'_{i}$ de $A^{t}A = A^{2}$ (por simetría de $A$), por lo que $\\sigma_{i} = \\sqrt{\\lambda_{i}'} = = \\sqrt{\\lambda_{i}^{2}} =|\\lambda_{i}|$ pues los autovalores de $A^{2}$ son los cuadrados de los autovalores $\\lambda_{i}$ de $A$, y tienen asociados los mismos autovectores $v_{i}$. Luego, se pueden obtener los valores singulares como el módulo de los autovalores de $A$ y las columnas de $V$ como los autovectores normalizados asociados a dichos autovalores.\n",
    "\n",
    "Para U, recordar que $u_{i} = \\frac{Av_{i}}{\\sigma_{i}} = \\frac{\\lambda_{i}v_{i}}{|\\lambda_{i}|} = signo(\\lambda_{i})v_{i}$ (notar que al ser $v_{i}$ normalizado también lo resulta ser $u_{i}$), y como $A$ es cuadrada hay tantos vectores $u$ como $v$. \n",
    "El inconveniente es que puede haber algunos $\\lambda_{i} = 0$, en cual caso $u_{i} = \\frac{Av_{i}}{\\sigma_{i}} = \\frac{\\lambda_{i}v_{i}}{|\\lambda_{i}|}$ quedaría indefinida. Ordinariamente, estos $u_{i}$ asociados a autovalores nulos se completan con una base ortonormal de $Nu(A^{t}) = Nu(A)$ por simetría, de modo que corrsponden a los autovectores $v_{i}$ de $A$ asociados al autovalor 0 (sin cambio de signo)."
   ]
  },
  {
   "cell_type": "code",
   "execution_count": 38,
   "metadata": {},
   "outputs": [
    {
     "name": "stdout",
     "output_type": "stream",
     "text": [
      "[[1.         1.73205081 0.        ]\n",
      " [1.73205081 4.         0.8660254 ]\n",
      " [0.         0.8660254  1.75      ]]\n",
      "[[1.00000000e+00 1.73205081e+00 8.32667268e-16]\n",
      " [1.73205081e+00 4.00000000e+00 8.66025404e-01]\n",
      " [8.32667268e-16 8.66025404e-01 1.75000000e+00]]\n"
     ]
    }
   ],
   "source": [
    "# COMPLETAR\n",
    "eigvals, V = eig(A)\n",
    "U = V @ np.diag((np.sign(eigvals) + (eigvals == 0))) ## np.sign deja en 0 a los 0s, quiero que queden en 1s.\n",
    "Sigma = np.diag(np.absolute(eigvals))\n",
    "\n",
    "# Reviso que A = U * Sigma * V^t\n",
    "print(A)\n",
    "print(U @ Sigma @ V.T)"
   ]
  },
  {
   "cell_type": "markdown",
   "metadata": {
    "colab_type": "text",
    "id": "owkr_s9YeAkd"
   },
   "source": [
    "## Ejercicio 2\n",
    "\n",
    "\n",
    "Dado el siguiente sistema lineal sobredeterminado:\n",
    "\n",
    "$$\n",
    "A x = b \\\\\n",
    "\\begin{pmatrix}\n",
    "1  & 0  & 0 \\\\\n",
    "0  & 1  & 0 \\\\\n",
    "0  & 0  & 1 \\\\\n",
    "-1 & 1  & 0 \\\\\n",
    "0  & -1 & 0 \\\\\n",
    "-1 & 0  & 1\n",
    "\\end{pmatrix}\n",
    "%\n",
    "\\begin{pmatrix}\n",
    "x_a \\\\\n",
    "x_b \\\\\n",
    "x_c\n",
    "\\end{pmatrix}\n",
    "=\n",
    "\\begin{pmatrix}\n",
    "1 \\\\ \n",
    "2 \\\\ \n",
    "3 \\\\\n",
    "1 \\\\\n",
    "2 \\\\\n",
    "1\n",
    "\\end{pmatrix}\n",
    "$$\n",
    "\n",
    "- Hallar $x^*$ mediante cuadrados mínimos, utilizando ecuaciones normales. ¿Bajo que condiciones esta solución es única?\n",
    "\n",
    "\n",
    "- Probar que el residuo, $r = b-Ax$ resulta ortogonal a $Im(A)$ si $x = x^*$ es la solución de cuadrados mínimos\n",
    "\n",
    "\n",
    "- Dar una interpretación geométrica de la solución de cuadrados mínimos lineales para *este ejemplo*.\n",
    "\n",
    "__Sugerencia:__ Utilizar la función [solve](https://docs.scipy.org/doc/numpy/reference/generated/numpy.linalg.solve.html) de Numpy para encontrar la solución de un sistema determinado.\n"
   ]
  },
  {
   "cell_type": "code",
   "execution_count": 54,
   "metadata": {
    "colab": {},
    "colab_type": "code",
    "id": "o4VdCUq2eAkf"
   },
   "outputs": [
    {
     "name": "stderr",
     "output_type": "stream",
     "text": [
      "/tmp/ipykernel_14540/4037388531.py:13: FutureWarning: `rcond` parameter will change to the default of machine precision times ``max(M, N)`` where M and N are the input matrix dimensions.\n",
      "To use the future default and silence this warning we advise to pass `rcond=None`, to keep using the old, explicitly pass `rcond=-1`.\n",
      "  x_np = np.linalg.lstsq(A, b)[0]\n"
     ]
    },
    {
     "data": {
      "text/plain": [
       "True"
      ]
     },
     "execution_count": 54,
     "metadata": {},
     "output_type": "execute_result"
    }
   ],
   "source": [
    "A = np.array([[1, 0, 0],\n",
    "              [0, 1, 0],\n",
    "              [0, 0, 1],\n",
    "              [-1,1, 0],\n",
    "              [0,-1, 0],\n",
    "              [-1,0, 1]])\n",
    "\n",
    "b = np.array([1, 2, 3, 1, 2, 1])\n",
    "\n",
    "x = np.linalg.solve(A.T @ A, A.T @ b) # Uso ecuaciones normales A^tAx* = A^tb\n",
    "\n",
    "# Prueba con numpy para verificar\n",
    "x_np = np.linalg.lstsq(A, b)[0]\n",
    "\n",
    "np.allclose(x, x_np)\n",
    "\n",
    "# Pruebo que el residuo es ortogonal a Im(A):\n",
    "np.allclose(A.T @ (b - A @ x), 0)"
   ]
  },
  {
   "cell_type": "markdown",
   "metadata": {},
   "source": [
    "__Solución__:\n",
    "\n",
    "- La solución $x^{*}$ es única cuando $A^{t}A$ es inversible, pues en tal caso la solución a la ecuación normal $A^{t}Ax^{*} = A^{t}b$ es única, de modo que hay un único $x^{*}$ que corresponde a la proyección ortogonal de $b$ en $Im(A)$ (esto es, $A^{t}b$), que es el punto más cercano a $b$ en la $Im(A)$.\n",
    "- Si $x^{*}$ es la solución al método de cuadrados mínimos (esto es, la solución a la ecuación $A^{t}Ax^{*} = A^{t}b$) entonces su imagen (aplicando $A$) corresponde a la proyección ortogonal de $b$ sobre $Im(A)$, llámesele $b^{(1)}$ (esto es $Ax^{*} = b^{(1)}$). Dado que $b = b^{(1)} + b^{(2)}$ con $b^{(1)} \\in Im(A)$ y $b^{(2)} \\in Im(A)^{\\bot}$, ocurre que $r = b - Ax^{*} = b^{(1)} + b^{(2)} - b^{(1)} = b^{(2)} \\in Im(A)^{\\bot}$, $r$ pertenece al espacio ortogonal a $Im(A)$, de modo que es ortogonal al espacio que genera.\n",
    "- En este ejemplo, se busca el vector $x*$ cuya imagen (aplicándole $A$ como transformación lineal) minimice la distancia respecto al vector $b = (1,2,3,1,2,1)$. Este vector será aquel cuya imagen corresponda a la proyección ortogonal de $b$ en $Im(A)$."
   ]
  },
  {
   "cell_type": "markdown",
   "metadata": {
    "colab_type": "text",
    "id": "ZTExqkrVeAk8"
   },
   "source": [
    "## Ejercicio 3\n",
    "\n",
    "- Completar los métodos de Jacobi y Gauss-Seidel. Tener en cuenta que las funciones también deben devolver el vector de errores que resulta de comparar la solución aproximada de una iteración contra la solución conocida $x\\_direct$ obtenida mediante la  función [solve](https://docs.scipy.org/doc/numpy/reference/generated/numpy.linalg.solve.html) de Numpy.\n",
    "\n",
    "- Probar los métodos con la matriz A (definida en el código), graficar y  analizar el error de la solución. ¿Converge a una solución?¿Cómo podría justificarse lo anterior?\n"
   ]
  },
  {
   "cell_type": "code",
   "execution_count": 40,
   "metadata": {
    "colab": {},
    "colab_type": "code",
    "id": "AeByES9teAlA"
   },
   "outputs": [],
   "source": [
    "def jacobi(A,b,reps,x_ini,x_direct):\n",
    "    # Matrices para los metodos iterativos\n",
    "    # Nota: podría haber usado 'eig' en lugar de 'np.linalg'.\n",
    "    D = np.diag(np.diag(A)) # COMPLETAR\n",
    "    L = np.tril(-A, -1) # COMPLETAR\n",
    "    U = np.triu(-A, 1) # COMPLETAR\n",
    "    \n",
    "    T = np.linalg.inv(D) @ (L + U) # COMPLETAR\n",
    "    c = np.linalg.inv(D) @ b # COMPLETAR\n",
    "  \n",
    "    xi = x_ini # COMPLETAR\n",
    "    error = []\n",
    "    for i in range(reps):\n",
    "        xi = c + T @ xi # COMPLETAR\n",
    "        error.append(np.linalg.norm(xi - x_direct))\n",
    "    return xi, error"
   ]
  },
  {
   "cell_type": "code",
   "execution_count": 41,
   "metadata": {
    "colab": {},
    "colab_type": "code",
    "id": "H-7JdxsEeAlM"
   },
   "outputs": [],
   "source": [
    "def gauss_seidel(A,b,reps,x_ini,x_direct):\n",
    "    # Matrices para los metodos iterativos\n",
    "    D = np.diag(np.diag(A))# COMPLETAR\n",
    "    L = np.tril(-A, -1) # COMPLETAR\n",
    "    U = np.triu(-A, 1) # COMPLETAR\n",
    "    \n",
    "    inv_D_L = np.linalg.inv(D - L) # Se reutiliza.\n",
    "    \n",
    "    T = inv_D_L @ U # COMPLETAR\n",
    "    c = inv_D_L @ b # COMPLETAR\n",
    "\n",
    "    xi = x_ini # COMPLETAR\n",
    "    error = []\n",
    "    for i in range(reps):\n",
    "        xi = c + T @ xi # COMPLETAR\n",
    "        error.append(np.linalg.norm(xi - x_direct))\n",
    "    return xi, error"
   ]
  },
  {
   "cell_type": "code",
   "execution_count": 72,
   "metadata": {
    "colab": {},
    "colab_type": "code",
    "id": "dV_L6nfDeAlX"
   },
   "outputs": [
    {
     "name": "stdout",
     "output_type": "stream",
     "text": [
      "Jacobi:\n",
      "Estimacion: [ 0.74628648 -1.36616872  2.88528748]\n",
      "Respuesta correcta [ 0.74628648 -1.36616872  2.88528748]\n"
     ]
    },
    {
     "data": {
      "image/png": "[encoded data removed]",
      "text/plain": [
       "<Figure size 432x288 with 1 Axes>"
      ]
     },
     "metadata": {
      "needs_background": "light"
     },
     "output_type": "display_data"
    }
   ],
   "source": [
    "A = np.array([[8,np.sqrt(2),1/3],\n",
    "              [np.sqrt(3),10, 5.5],\n",
    "              [0,1 , 7/6]])\n",
    "b = np.array([5,3.5,2])\n",
    "\n",
    "x = np.linalg.solve(A,b) # x_direct, la solución de np para Ax = b.\n",
    "\n",
    "reps = 100 # AGREGADO\n",
    "\n",
    "x_ini = np.zeros(len(x)) # AGREGADO\n",
    "\n",
    "x_jacobi, error = jacobi(A, b, reps, x_ini, x) # COMPLETAR\n",
    "\n",
    "print(\"Jacobi:\")\n",
    "print(\"Estimacion:\", x_jacobi)\n",
    "print(\"Respuesta correcta\", x)\n",
    "\n",
    "plt.plot(error)\n",
    "plt.title(\"Error de Jacobi\")\n",
    "plt.xlabel(\"Iteracion\")\n",
    "plt.ylabel(\"error\")\n",
    "plt.yscale('log')\n",
    "plt.show()"
   ]
  },
  {
   "cell_type": "code",
   "execution_count": 73,
   "metadata": {
    "colab": {},
    "colab_type": "code",
    "id": "5lrHEwQreAlg"
   },
   "outputs": [
    {
     "name": "stdout",
     "output_type": "stream",
     "text": [
      "Gauss-Seidel:\n",
      "Estimacion: [ 0.74628648 -1.36616872  2.88528748]\n",
      "Respuesta correcta [ 0.74628648 -1.36616872  2.88528748]\n"
     ]
    },
    {
     "data": {
      "image/png": "[encoded data removed]",
      "text/plain": [
       "<Figure size 432x288 with 1 Axes>"
      ]
     },
     "metadata": {
      "needs_background": "light"
     },
     "output_type": "display_data"
    }
   ],
   "source": [
    "# Idem para gauss-seidel\n",
    "x_gs, error = gauss_seidel(A, b, reps, x_ini, x)# COMPLETAR\n",
    "\n",
    "print(\"Gauss-Seidel:\")\n",
    "print(\"Estimacion:\", x_gs)\n",
    "print(\"Respuesta correcta\", x)\n",
    "\n",
    "plt.plot(error)\n",
    "plt.title(\"Error de Gauss-Seidel\")\n",
    "plt.xlabel(\"Iteracion\")\n",
    "plt.ylabel(\"error\")\n",
    "plt.yscale('log')\n",
    "plt.show()\n",
    "\n"
   ]
  },
  {
   "cell_type": "markdown",
   "metadata": {},
   "source": [
    "__Solución__:\n",
    "\n",
    "Ambos métodos parecen converger a una solución pues el valor del error (en escala logarítmica) parece acercarse a 0, aumentando su proximidad con cada iteración.\n",
    "\n",
    "Una forma de comprobar teóricamente que los métodos convergen es determinando si la solución aproximada por los métodos ($x^{(k)}$ en la k-ésima iteración) converge a la solución verdadera del sistema ($x^{*}$), esto es que $lím_{k \\rightarrow \\infty} x^{*} - x^{(k)} = 0$, o que $lím_{k \\rightarrow \\infty} x^{(k)} = x^{*}$. Esto equivale también a revisar que $\\rho(T) < 0$ ($\\rho$ corresponde al radio espectral), donde $T$ es la matriz calculada por los métodos para una matriz de entrada $A$ fija."
   ]
  },
  {
   "cell_type": "markdown",
   "metadata": {
    "colab_type": "text",
    "id": "I3SfLOcKeAls"
   },
   "source": [
    "## Ejercicio 4\n",
    "\n",
    "\n",
    "Considerar los siguientes datos que fueron generados a partir de un polinomio de grado 2:\n",
    "\n",
    "$$p(x) = 4 x + 0.5 x^2 + C$$\n",
    "\n",
    "donde $C$ ruido agregado con distribución normal\n",
    "\n",
    "Los mismos serán los datos a ajustar utilizando cuadrados mínimos lineales."
   ]
  },
  {
   "cell_type": "code",
   "execution_count": 64,
   "metadata": {
    "colab": {},
    "colab_type": "code",
    "id": "ShqL7JVIeAlw"
   },
   "outputs": [
    {
     "data": {
      "image/png": "[encoded data removed]",
      "text/plain": [
       "<Figure size 432x288 with 1 Axes>"
      ]
     },
     "metadata": {
      "needs_background": "light"
     },
     "output_type": "display_data"
    }
   ],
   "source": [
    "def p(x):\n",
    "    'implementa la funcion p(x) enunciada en la celda de arriba, pero asumiendo x como un vector'\n",
    "    y = 4 * x + 0.5 * x ** 2 + np.random.randn(*x.shape) * 20\n",
    "    return y\n",
    "\n",
    "# Creo valores entre 1 y 40 espaciados 0.1\n",
    "x = np.arange(1, 40, 0.1)\n",
    "y = p(x)\n",
    "\n",
    "plt.plot(x, y, '.')\n",
    "plt.title('Datos a ajustar')\n",
    "plt.show()"
   ]
  },
  {
   "cell_type": "markdown",
   "metadata": {
    "colab_type": "text",
    "id": "8CRqaoyveAl2"
   },
   "source": [
    "### Propuesta: \n",
    "La idea será ajustar un polinomio $f(x)$ de grado 4 a los datos anteriores. \n",
    "Es decir, considerando la familia de funciones $F = \\{x,x^{2},x^{3},x^{4}\\}$ queremos encontrar una función $f(x) = a_{0}x+a_{1}x^{2}+a_{2}x^{3}+a_{3}x^{4}$, una combinación lineal de ellas, que \"mejor aproxime\", en términos de cuadrados mínimos, a $p(x)$. \n",
    "\n",
    "### Implementación:\n",
    "Para esto, podríamos utilizar cuadrados mínimos a través de ecuaciones normales resueltas por un método directo (_np.linalg.solve_).\n",
    "Recordar que la matriz A de CML tiene la siguiente forma:\n",
    "$$A=\n",
    "\\begin{pmatrix}\n",
    "\\delta_{1}(x_{1}) & \\delta_{2}(x_{1}) & \\ldots  & \\delta_{n}(x_{1}) \\\\\n",
    "\\vdots & \\vdots & \\ldots & \\vdots \\\\\n",
    "\\delta_{1}(x_{m}) & \\delta_{2}(x_{m}) & \\ldots  & \\delta_{n}(x_{m}) \\\\\n",
    "\\end{pmatrix} $$\n",
    "\n",
    "\n",
    "En este caso particular, utilizando la función [np.stack](https://numpy.org/doc/stable/reference/generated/numpy.stack.html) y el vector x creado previamente, buscamos:\n",
    "\n",
    "$$A=\n",
    "\\begin{pmatrix}\n",
    "x_{1} & x_{1}^{2} & x_{1}^{3} & x_{1}^{4} \\\\\n",
    "\\vdots & \\vdots & \\ldots & \\vdots \\\\\n",
    "x_{390} & x_{390}^{2} & x_{390}^{3} & x_{390}^{4} \\\\\n",
    "\\end{pmatrix} $$\n",
    "\n"
   ]
  },
  {
   "cell_type": "code",
   "execution_count": 65,
   "metadata": {
    "colab": {},
    "colab_type": "code",
    "id": "81wkOv_eeAl5"
   },
   "outputs": [
    {
     "name": "stdout",
     "output_type": "stream",
     "text": [
      "Solucion encontrada:[ 4.22005668e+00  4.52174046e-01  2.43332246e-03 -3.48828416e-05]\n"
     ]
    }
   ],
   "source": [
    "A = np.stack([x, x ** 2, x ** 3, x ** 4]).T\n",
    "b = y\n",
    "\n",
    "AtA = A.T @ A \n",
    "Atb = A.T @ b\n",
    "\n",
    "x_direct = np.linalg.solve(AtA, Atb)\n",
    "print(\"Solucion encontrada:\" + str(x_direct)) "
   ]
  },
  {
   "cell_type": "markdown",
   "metadata": {
    "colab_type": "text",
    "id": "3j-8NiUUeAmB"
   },
   "source": [
    "### Responder:\n",
    "\n",
    "- Estimar la solución de cuadrados mínimos utilizando los métodos iterativos del punto 3 y graficar los errores de los métodos (con respecto a la solución hallada con el método directo) en función de las iteraciones.\n",
    "- Indicar si los métodos convergen. Justificar adecuadamente.\n",
    "\n"
   ]
  },
  {
   "cell_type": "code",
   "execution_count": 70,
   "metadata": {
    "colab": {},
    "colab_type": "code",
    "id": "EFeu7HU6eAmD"
   },
   "outputs": [
    {
     "name": "stdout",
     "output_type": "stream",
     "text": [
      "Jacobi:\n",
      "Estimacion: [-1.21587394e+46 -4.10035516e+44 -1.20917765e+43 -3.36365498e+41]\n",
      "Respuesta correcta [ 4.22005668e+00  4.52174046e-01  2.43332246e-03 -3.48828416e-05]\n"
     ]
    },
    {
     "data": {
      "image/png": "[encoded data removed]",
      "text/plain": [
       "<Figure size 432x288 with 1 Axes>"
      ]
     },
     "metadata": {
      "needs_background": "light"
     },
     "output_type": "display_data"
    },
    {
     "name": "stdout",
     "output_type": "stream",
     "text": [
      "Gauss-Seidel:\n",
      "Estimacion: [6.77770190e+00 3.00317541e-01 2.87631369e-03 1.48057068e-05]\n",
      "Respuesta correcta [ 4.22005668e+00  4.52174046e-01  2.43332246e-03 -3.48828416e-05]\n"
     ]
    },
    {
     "data": {
      "image/png": "[encoded data removed]",
      "text/plain": [
       "<Figure size 432x288 with 1 Axes>"
      ]
     },
     "metadata": {
      "needs_background": "light"
     },
     "output_type": "display_data"
    }
   ],
   "source": [
    "# Jacobi\n",
    "# Creo x inicial de ceros con tantos elementos como hay filas/columnas en AtA:\n",
    "x_ini = np.zeros(AtA.shape[0]) # COMPLETAR\n",
    "reps = 100 # COMPLETAR\n",
    "x_jacobi, error = jacobi(AtA, Atb, reps, x_ini, x_direct) # COMPLETAR\n",
    "\n",
    "print(\"Jacobi:\")\n",
    "print(\"Estimacion:\", x_jacobi)\n",
    "print(\"Respuesta correcta\", x_direct)\n",
    "\n",
    "plt.plot(error)\n",
    "plt.title(\"Error de Jacobi\")\n",
    "plt.xlabel(\"Iteracion\")\n",
    "plt.ylabel(\"error\")\n",
    "plt.yscale('log')\n",
    "plt.show()\n",
    "\n",
    "\n",
    "# Gauss-Seidel\n",
    "reps = 100 # COMPLETAR\n",
    "x_ini = np.zeros(AtA.shape[0]) # COMPLETAR \n",
    "x_gs, error = gauss_seidel(AtA, Atb, reps, x_ini, x_direct) # COMPLETAR\n",
    "\n",
    "print(\"Gauss-Seidel:\")\n",
    "print(\"Estimacion:\", x_gs)\n",
    "print(\"Respuesta correcta\", x_direct)\n",
    "\n",
    "plt.plot(error)\n",
    "plt.title(\"Error de Gauss-Seidel\")\n",
    "plt.xlabel(\"Iteracion\")\n",
    "plt.ylabel(\"error\")\n",
    "plt.yscale('log')\n",
    "plt.show()"
   ]
  },
  {
   "cell_type": "markdown",
   "metadata": {},
   "source": [
    "__Solución__:\n",
    "\n",
    "El método de Jacobi no parece converger pues $lím_{k \\rightarrow \\infty} x - x^{(k)}$ (donde $x$ es la solución correcta y $x^{(k)}$ es la aproximación de Jacobi) no parece ser 0, al incrementarse en cada iteración.\n",
    "\n",
    "El método de Gauss-Seidel sí parece converger, pues dicho error se decrementa en cada iteración, acercándose a 0."
   ]
  },
  {
   "cell_type": "markdown",
   "metadata": {
    "colab_type": "text",
    "id": "Sl9gTlsxeAmM"
   },
   "source": [
    "### Ajustando la función\n",
    "\n",
    "Recapitulando, queríamos encontrar con CML los coeficientes para $f(x) = a_{0}x+a_{1}x^{2}+a_{2}x^{3}+a_{3}x^{4}$. \n",
    "\n",
    "Para encontrar la solución, utilizamos ecuaciones normales que resolvimos primero utilizando un método directo y luego uno iterativo. Idealmente, ambas soluciones deberían \"parecerse\".\n",
    "\n",
    "Finalmente, nos interesa ver como se ajusta nuestra función a los datos originales.\n",
    "\n",
    "### Responder: \n",
    "- A partir de lo anterior, fittear la función estimada, f(x) a los datos originales. Mostrar en un gráfico.\n",
    "- ¿Qué puede decirse sobre los valores estimados de los coeficientes de mayor grado?"
   ]
  },
  {
   "cell_type": "code",
   "execution_count": 67,
   "metadata": {},
   "outputs": [],
   "source": [
    "def f(x,coef):\n",
    "    'implementar la funcion f(x) que ajustará a los datos'\n",
    "    'tener en cuenta que x esta en R y coef es el vector con los coeficientes a_0 ... a_3'\n",
    "    \n",
    "    y = 0\n",
    "    for i in range(len(coef)):\n",
    "        # Tener en cuenta que i = 0, ..., len(coef)-1\n",
    "        y += coef[i] * (x ** (i+1)) # y += a_i * (x)^(i+1)\n",
    "    \n",
    "    return y #COMPLETAR"
   ]
  },
  {
   "cell_type": "code",
   "execution_count": 68,
   "metadata": {},
   "outputs": [
    {
     "data": {
      "image/png": "[encoded data removed]",
      "text/plain": [
       "<Figure size 432x288 with 1 Axes>"
      ]
     },
     "metadata": {
      "needs_background": "light"
     },
     "output_type": "display_data"
    }
   ],
   "source": [
    "# Completo los coeficientes como los que se consiguen aplicando el método exacto:\n",
    "coef = x_direct #COMPLETAR\n",
    "y_pred = f(x,coef)\n",
    "\n",
    "plt.plot(x,y, '.') # puntos originales\n",
    "\n",
    "plt.plot(x,y_pred, 'r') # puntos estimados\n",
    "\n",
    "plt.title(\"Polinomio ajustado\")\n",
    "plt.xlabel(\"x\")\n",
    "plt.ylabel(\"y\");"
   ]
  },
  {
   "cell_type": "markdown",
   "metadata": {},
   "source": [
    "__Solución__:\n",
    "\n",
    "Se puede obsevar en las soluciones encontradas tanto con el método exacto como los iterativos que los coeficientes asociados a los términos ($x$) de mayor grado son bastante más pequeños que los asociados a los términos de menor grado. Es posible que esto se deba a que cambios pequeños para los $x$ con coeficientes altos resulten en cambios de alta magnitud en el valor de la estimación, de modo que los coeficientes deben \"encogerse\" para compensar dicho efecto."
   ]
  },
  {
   "cell_type": "markdown",
   "metadata": {
    "colab": {},
    "colab_type": "code",
    "id": "_huMmgUDeAmP"
   },
   "source": [
    "### Predicciones\n",
    "Vimos que otra de las aplicaciones de este método es poder predecir la variable dependiente para instancias desconocidas. Para ver esto, podemos tomar otro rango de valores de x y observar como se \"extrapola\""
   ]
  },
  {
   "cell_type": "code",
   "execution_count": 69,
   "metadata": {},
   "outputs": [
    {
     "data": {
      "image/png": "[encoded data removed]",
      "text/plain": [
       "<Figure size 432x288 with 1 Axes>"
      ]
     },
     "metadata": {
      "needs_background": "light"
     },
     "output_type": "display_data"
    }
   ],
   "source": [
    "x_new  = np.concatenate([np.arange(-5, 1, 0.1),[np.nan],np.arange(40, 46, 0.1)])\n",
    "y_pred = f(x_new, coef)\n",
    "\n",
    "# Puntos originales\n",
    "plt.plot(x,y, '.')\n",
    "\n",
    "# Puntos estimados\n",
    "plt.plot(x_new,y_pred, 'r') \n",
    "\n",
    "\n",
    "plt.title(\"Polinomio ajustado\")\n",
    "plt.xlabel(\"x\")\n",
    "plt.ylabel(\"y\");\n"
   ]
  },
  {
   "cell_type": "code",
   "execution_count": null,
   "metadata": {},
   "outputs": [],
   "source": []
  }
 ],
 "metadata": {
  "colab": {
   "name": "Copy of Taller2_Alu.ipynb",
   "provenance": []
  },
  "kernelspec": {
   "display_name": "Python 3 (ipykernel)",
   "language": "python",
   "name": "python3"
  },
  "language_info": {
   "codemirror_mode": {
    "name": "ipython",
    "version": 3
   },
   "file_extension": ".py",
   "mimetype": "text/x-python",
   "name": "python",
   "nbconvert_exporter": "python",
   "pygments_lexer": "ipython3",
   "version": "3.8.10"
  }
 },
 "nbformat": 4,
 "nbformat_minor": 4
}
