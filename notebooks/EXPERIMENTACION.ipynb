{
 "cells": [
  {
   "cell_type": "markdown",
   "id": "4a99710a-b14f-4668-9ffc-2366171e0ca8",
   "metadata": {
    "tags": []
   },
   "source": [
    "## Explorando los datos de la tabla de MNIST"
   ]
  },
  {
   "cell_type": "code",
   "execution_count": 2,
   "id": "e4e672d0-80a2-4a0d-bb66-9f1a1872b88a",
   "metadata": {},
   "outputs": [
    {
     "data": {
      "text/plain": [
       "(60000, 785)"
      ]
     },
     "execution_count": 2,
     "metadata": {},
     "output_type": "execute_result"
    }
   ],
   "source": [
    "import numpy as np\n",
    "# Nos va a servir para funciones que contengan elementos algebraicos\n",
    "\n",
    "import pandas as pd\n",
    "\n",
    "df_train_total = pd.read_csv(\"../dataset/fashion-mnist_train.csv\")\n",
    "df_train_total.shape"
   ]
  },
  {
   "cell_type": "code",
   "execution_count": 3,
   "id": "98dc50aa-e70c-4d3c-9083-5a1077db83d5",
   "metadata": {},
   "outputs": [
    {
     "data": {
      "text/html": [
       "<div>\n",
       "<style scoped>\n",
       "    .dataframe tbody tr th:only-of-type {\n",
       "        vertical-align: middle;\n",
       "    }\n",
       "\n",
       "    .dataframe tbody tr th {\n",
       "        vertical-align: top;\n",
       "    }\n",
       "\n",
       "    .dataframe thead th {\n",
       "        text-align: right;\n",
       "    }\n",
       "</style>\n",
       "<table border=\"1\" class=\"dataframe\">\n",
       "  <thead>\n",
       "    <tr style=\"text-align: right;\">\n",
       "      <th></th>\n",
       "      <th>label</th>\n",
       "      <th>pixel1</th>\n",
       "      <th>pixel2</th>\n",
       "      <th>pixel3</th>\n",
       "      <th>pixel4</th>\n",
       "      <th>pixel5</th>\n",
       "      <th>pixel6</th>\n",
       "      <th>pixel7</th>\n",
       "      <th>pixel8</th>\n",
       "      <th>pixel9</th>\n",
       "      <th>...</th>\n",
       "      <th>pixel775</th>\n",
       "      <th>pixel776</th>\n",
       "      <th>pixel777</th>\n",
       "      <th>pixel778</th>\n",
       "      <th>pixel779</th>\n",
       "      <th>pixel780</th>\n",
       "      <th>pixel781</th>\n",
       "      <th>pixel782</th>\n",
       "      <th>pixel783</th>\n",
       "      <th>pixel784</th>\n",
       "    </tr>\n",
       "  </thead>\n",
       "  <tbody>\n",
       "    <tr>\n",
       "      <th>0</th>\n",
       "      <td>2</td>\n",
       "      <td>0</td>\n",
       "      <td>0</td>\n",
       "      <td>0</td>\n",
       "      <td>0</td>\n",
       "      <td>0</td>\n",
       "      <td>0</td>\n",
       "      <td>0</td>\n",
       "      <td>0</td>\n",
       "      <td>0</td>\n",
       "      <td>...</td>\n",
       "      <td>0</td>\n",
       "      <td>0</td>\n",
       "      <td>0</td>\n",
       "      <td>0</td>\n",
       "      <td>0</td>\n",
       "      <td>0</td>\n",
       "      <td>0</td>\n",
       "      <td>0</td>\n",
       "      <td>0</td>\n",
       "      <td>0</td>\n",
       "    </tr>\n",
       "    <tr>\n",
       "      <th>1</th>\n",
       "      <td>9</td>\n",
       "      <td>0</td>\n",
       "      <td>0</td>\n",
       "      <td>0</td>\n",
       "      <td>0</td>\n",
       "      <td>0</td>\n",
       "      <td>0</td>\n",
       "      <td>0</td>\n",
       "      <td>0</td>\n",
       "      <td>0</td>\n",
       "      <td>...</td>\n",
       "      <td>0</td>\n",
       "      <td>0</td>\n",
       "      <td>0</td>\n",
       "      <td>0</td>\n",
       "      <td>0</td>\n",
       "      <td>0</td>\n",
       "      <td>0</td>\n",
       "      <td>0</td>\n",
       "      <td>0</td>\n",
       "      <td>0</td>\n",
       "    </tr>\n",
       "    <tr>\n",
       "      <th>2</th>\n",
       "      <td>6</td>\n",
       "      <td>0</td>\n",
       "      <td>0</td>\n",
       "      <td>0</td>\n",
       "      <td>0</td>\n",
       "      <td>0</td>\n",
       "      <td>0</td>\n",
       "      <td>0</td>\n",
       "      <td>5</td>\n",
       "      <td>0</td>\n",
       "      <td>...</td>\n",
       "      <td>0</td>\n",
       "      <td>0</td>\n",
       "      <td>0</td>\n",
       "      <td>30</td>\n",
       "      <td>43</td>\n",
       "      <td>0</td>\n",
       "      <td>0</td>\n",
       "      <td>0</td>\n",
       "      <td>0</td>\n",
       "      <td>0</td>\n",
       "    </tr>\n",
       "    <tr>\n",
       "      <th>3</th>\n",
       "      <td>0</td>\n",
       "      <td>0</td>\n",
       "      <td>0</td>\n",
       "      <td>0</td>\n",
       "      <td>1</td>\n",
       "      <td>2</td>\n",
       "      <td>0</td>\n",
       "      <td>0</td>\n",
       "      <td>0</td>\n",
       "      <td>0</td>\n",
       "      <td>...</td>\n",
       "      <td>3</td>\n",
       "      <td>0</td>\n",
       "      <td>0</td>\n",
       "      <td>0</td>\n",
       "      <td>0</td>\n",
       "      <td>1</td>\n",
       "      <td>0</td>\n",
       "      <td>0</td>\n",
       "      <td>0</td>\n",
       "      <td>0</td>\n",
       "    </tr>\n",
       "    <tr>\n",
       "      <th>4</th>\n",
       "      <td>3</td>\n",
       "      <td>0</td>\n",
       "      <td>0</td>\n",
       "      <td>0</td>\n",
       "      <td>0</td>\n",
       "      <td>0</td>\n",
       "      <td>0</td>\n",
       "      <td>0</td>\n",
       "      <td>0</td>\n",
       "      <td>0</td>\n",
       "      <td>...</td>\n",
       "      <td>0</td>\n",
       "      <td>0</td>\n",
       "      <td>0</td>\n",
       "      <td>0</td>\n",
       "      <td>0</td>\n",
       "      <td>0</td>\n",
       "      <td>0</td>\n",
       "      <td>0</td>\n",
       "      <td>0</td>\n",
       "      <td>0</td>\n",
       "    </tr>\n",
       "    <tr>\n",
       "      <th>5</th>\n",
       "      <td>4</td>\n",
       "      <td>0</td>\n",
       "      <td>0</td>\n",
       "      <td>0</td>\n",
       "      <td>5</td>\n",
       "      <td>4</td>\n",
       "      <td>5</td>\n",
       "      <td>5</td>\n",
       "      <td>3</td>\n",
       "      <td>5</td>\n",
       "      <td>...</td>\n",
       "      <td>7</td>\n",
       "      <td>8</td>\n",
       "      <td>7</td>\n",
       "      <td>4</td>\n",
       "      <td>3</td>\n",
       "      <td>7</td>\n",
       "      <td>5</td>\n",
       "      <td>0</td>\n",
       "      <td>0</td>\n",
       "      <td>0</td>\n",
       "    </tr>\n",
       "    <tr>\n",
       "      <th>6</th>\n",
       "      <td>4</td>\n",
       "      <td>0</td>\n",
       "      <td>0</td>\n",
       "      <td>0</td>\n",
       "      <td>0</td>\n",
       "      <td>0</td>\n",
       "      <td>0</td>\n",
       "      <td>0</td>\n",
       "      <td>0</td>\n",
       "      <td>0</td>\n",
       "      <td>...</td>\n",
       "      <td>14</td>\n",
       "      <td>0</td>\n",
       "      <td>0</td>\n",
       "      <td>0</td>\n",
       "      <td>0</td>\n",
       "      <td>0</td>\n",
       "      <td>0</td>\n",
       "      <td>0</td>\n",
       "      <td>0</td>\n",
       "      <td>0</td>\n",
       "    </tr>\n",
       "    <tr>\n",
       "      <th>7</th>\n",
       "      <td>5</td>\n",
       "      <td>0</td>\n",
       "      <td>0</td>\n",
       "      <td>0</td>\n",
       "      <td>0</td>\n",
       "      <td>0</td>\n",
       "      <td>0</td>\n",
       "      <td>0</td>\n",
       "      <td>0</td>\n",
       "      <td>0</td>\n",
       "      <td>...</td>\n",
       "      <td>0</td>\n",
       "      <td>0</td>\n",
       "      <td>0</td>\n",
       "      <td>0</td>\n",
       "      <td>0</td>\n",
       "      <td>0</td>\n",
       "      <td>0</td>\n",
       "      <td>0</td>\n",
       "      <td>0</td>\n",
       "      <td>0</td>\n",
       "    </tr>\n",
       "    <tr>\n",
       "      <th>8</th>\n",
       "      <td>4</td>\n",
       "      <td>0</td>\n",
       "      <td>0</td>\n",
       "      <td>0</td>\n",
       "      <td>0</td>\n",
       "      <td>0</td>\n",
       "      <td>0</td>\n",
       "      <td>3</td>\n",
       "      <td>2</td>\n",
       "      <td>0</td>\n",
       "      <td>...</td>\n",
       "      <td>1</td>\n",
       "      <td>0</td>\n",
       "      <td>0</td>\n",
       "      <td>0</td>\n",
       "      <td>0</td>\n",
       "      <td>0</td>\n",
       "      <td>0</td>\n",
       "      <td>0</td>\n",
       "      <td>0</td>\n",
       "      <td>0</td>\n",
       "    </tr>\n",
       "    <tr>\n",
       "      <th>9</th>\n",
       "      <td>8</td>\n",
       "      <td>0</td>\n",
       "      <td>0</td>\n",
       "      <td>0</td>\n",
       "      <td>0</td>\n",
       "      <td>0</td>\n",
       "      <td>0</td>\n",
       "      <td>0</td>\n",
       "      <td>0</td>\n",
       "      <td>0</td>\n",
       "      <td>...</td>\n",
       "      <td>203</td>\n",
       "      <td>214</td>\n",
       "      <td>166</td>\n",
       "      <td>0</td>\n",
       "      <td>0</td>\n",
       "      <td>0</td>\n",
       "      <td>0</td>\n",
       "      <td>0</td>\n",
       "      <td>0</td>\n",
       "      <td>0</td>\n",
       "    </tr>\n",
       "    <tr>\n",
       "      <th>10</th>\n",
       "      <td>0</td>\n",
       "      <td>0</td>\n",
       "      <td>0</td>\n",
       "      <td>0</td>\n",
       "      <td>0</td>\n",
       "      <td>1</td>\n",
       "      <td>0</td>\n",
       "      <td>0</td>\n",
       "      <td>0</td>\n",
       "      <td>0</td>\n",
       "      <td>...</td>\n",
       "      <td>164</td>\n",
       "      <td>177</td>\n",
       "      <td>163</td>\n",
       "      <td>0</td>\n",
       "      <td>0</td>\n",
       "      <td>1</td>\n",
       "      <td>0</td>\n",
       "      <td>0</td>\n",
       "      <td>0</td>\n",
       "      <td>0</td>\n",
       "    </tr>\n",
       "    <tr>\n",
       "      <th>11</th>\n",
       "      <td>8</td>\n",
       "      <td>0</td>\n",
       "      <td>0</td>\n",
       "      <td>0</td>\n",
       "      <td>0</td>\n",
       "      <td>0</td>\n",
       "      <td>0</td>\n",
       "      <td>0</td>\n",
       "      <td>0</td>\n",
       "      <td>0</td>\n",
       "      <td>...</td>\n",
       "      <td>9</td>\n",
       "      <td>10</td>\n",
       "      <td>9</td>\n",
       "      <td>9</td>\n",
       "      <td>8</td>\n",
       "      <td>1</td>\n",
       "      <td>0</td>\n",
       "      <td>0</td>\n",
       "      <td>0</td>\n",
       "      <td>0</td>\n",
       "    </tr>\n",
       "    <tr>\n",
       "      <th>12</th>\n",
       "      <td>9</td>\n",
       "      <td>0</td>\n",
       "      <td>0</td>\n",
       "      <td>0</td>\n",
       "      <td>0</td>\n",
       "      <td>0</td>\n",
       "      <td>0</td>\n",
       "      <td>0</td>\n",
       "      <td>0</td>\n",
       "      <td>0</td>\n",
       "      <td>...</td>\n",
       "      <td>0</td>\n",
       "      <td>0</td>\n",
       "      <td>0</td>\n",
       "      <td>0</td>\n",
       "      <td>0</td>\n",
       "      <td>0</td>\n",
       "      <td>0</td>\n",
       "      <td>0</td>\n",
       "      <td>0</td>\n",
       "      <td>0</td>\n",
       "    </tr>\n",
       "    <tr>\n",
       "      <th>13</th>\n",
       "      <td>0</td>\n",
       "      <td>0</td>\n",
       "      <td>0</td>\n",
       "      <td>0</td>\n",
       "      <td>0</td>\n",
       "      <td>0</td>\n",
       "      <td>0</td>\n",
       "      <td>0</td>\n",
       "      <td>0</td>\n",
       "      <td>0</td>\n",
       "      <td>...</td>\n",
       "      <td>0</td>\n",
       "      <td>0</td>\n",
       "      <td>0</td>\n",
       "      <td>0</td>\n",
       "      <td>0</td>\n",
       "      <td>0</td>\n",
       "      <td>1</td>\n",
       "      <td>0</td>\n",
       "      <td>0</td>\n",
       "      <td>0</td>\n",
       "    </tr>\n",
       "    <tr>\n",
       "      <th>14</th>\n",
       "      <td>2</td>\n",
       "      <td>0</td>\n",
       "      <td>0</td>\n",
       "      <td>0</td>\n",
       "      <td>0</td>\n",
       "      <td>1</td>\n",
       "      <td>1</td>\n",
       "      <td>0</td>\n",
       "      <td>0</td>\n",
       "      <td>0</td>\n",
       "      <td>...</td>\n",
       "      <td>0</td>\n",
       "      <td>0</td>\n",
       "      <td>118</td>\n",
       "      <td>190</td>\n",
       "      <td>162</td>\n",
       "      <td>82</td>\n",
       "      <td>0</td>\n",
       "      <td>0</td>\n",
       "      <td>0</td>\n",
       "      <td>0</td>\n",
       "    </tr>\n",
       "    <tr>\n",
       "      <th>15</th>\n",
       "      <td>2</td>\n",
       "      <td>0</td>\n",
       "      <td>0</td>\n",
       "      <td>0</td>\n",
       "      <td>0</td>\n",
       "      <td>0</td>\n",
       "      <td>0</td>\n",
       "      <td>0</td>\n",
       "      <td>0</td>\n",
       "      <td>16</td>\n",
       "      <td>...</td>\n",
       "      <td>0</td>\n",
       "      <td>0</td>\n",
       "      <td>1</td>\n",
       "      <td>1</td>\n",
       "      <td>1</td>\n",
       "      <td>1</td>\n",
       "      <td>0</td>\n",
       "      <td>0</td>\n",
       "      <td>0</td>\n",
       "      <td>0</td>\n",
       "    </tr>\n",
       "    <tr>\n",
       "      <th>16</th>\n",
       "      <td>9</td>\n",
       "      <td>0</td>\n",
       "      <td>0</td>\n",
       "      <td>0</td>\n",
       "      <td>0</td>\n",
       "      <td>0</td>\n",
       "      <td>0</td>\n",
       "      <td>0</td>\n",
       "      <td>0</td>\n",
       "      <td>0</td>\n",
       "      <td>...</td>\n",
       "      <td>0</td>\n",
       "      <td>0</td>\n",
       "      <td>0</td>\n",
       "      <td>0</td>\n",
       "      <td>0</td>\n",
       "      <td>0</td>\n",
       "      <td>0</td>\n",
       "      <td>0</td>\n",
       "      <td>0</td>\n",
       "      <td>0</td>\n",
       "    </tr>\n",
       "    <tr>\n",
       "      <th>17</th>\n",
       "      <td>3</td>\n",
       "      <td>0</td>\n",
       "      <td>0</td>\n",
       "      <td>0</td>\n",
       "      <td>0</td>\n",
       "      <td>0</td>\n",
       "      <td>0</td>\n",
       "      <td>0</td>\n",
       "      <td>0</td>\n",
       "      <td>0</td>\n",
       "      <td>...</td>\n",
       "      <td>101</td>\n",
       "      <td>20</td>\n",
       "      <td>0</td>\n",
       "      <td>0</td>\n",
       "      <td>1</td>\n",
       "      <td>0</td>\n",
       "      <td>0</td>\n",
       "      <td>0</td>\n",
       "      <td>0</td>\n",
       "      <td>0</td>\n",
       "    </tr>\n",
       "    <tr>\n",
       "      <th>18</th>\n",
       "      <td>3</td>\n",
       "      <td>0</td>\n",
       "      <td>0</td>\n",
       "      <td>0</td>\n",
       "      <td>0</td>\n",
       "      <td>0</td>\n",
       "      <td>0</td>\n",
       "      <td>0</td>\n",
       "      <td>0</td>\n",
       "      <td>0</td>\n",
       "      <td>...</td>\n",
       "      <td>0</td>\n",
       "      <td>11</td>\n",
       "      <td>15</td>\n",
       "      <td>0</td>\n",
       "      <td>0</td>\n",
       "      <td>0</td>\n",
       "      <td>0</td>\n",
       "      <td>0</td>\n",
       "      <td>0</td>\n",
       "      <td>0</td>\n",
       "    </tr>\n",
       "    <tr>\n",
       "      <th>19</th>\n",
       "      <td>3</td>\n",
       "      <td>0</td>\n",
       "      <td>0</td>\n",
       "      <td>0</td>\n",
       "      <td>0</td>\n",
       "      <td>0</td>\n",
       "      <td>0</td>\n",
       "      <td>0</td>\n",
       "      <td>0</td>\n",
       "      <td>0</td>\n",
       "      <td>...</td>\n",
       "      <td>0</td>\n",
       "      <td>0</td>\n",
       "      <td>0</td>\n",
       "      <td>0</td>\n",
       "      <td>0</td>\n",
       "      <td>0</td>\n",
       "      <td>0</td>\n",
       "      <td>0</td>\n",
       "      <td>0</td>\n",
       "      <td>0</td>\n",
       "    </tr>\n",
       "  </tbody>\n",
       "</table>\n",
       "<p>20 rows × 785 columns</p>\n",
       "</div>"
      ],
      "text/plain": [
       "    label  pixel1  pixel2  pixel3  pixel4  pixel5  pixel6  pixel7  pixel8  \\\n",
       "0       2       0       0       0       0       0       0       0       0   \n",
       "1       9       0       0       0       0       0       0       0       0   \n",
       "2       6       0       0       0       0       0       0       0       5   \n",
       "3       0       0       0       0       1       2       0       0       0   \n",
       "4       3       0       0       0       0       0       0       0       0   \n",
       "5       4       0       0       0       5       4       5       5       3   \n",
       "6       4       0       0       0       0       0       0       0       0   \n",
       "7       5       0       0       0       0       0       0       0       0   \n",
       "8       4       0       0       0       0       0       0       3       2   \n",
       "9       8       0       0       0       0       0       0       0       0   \n",
       "10      0       0       0       0       0       1       0       0       0   \n",
       "11      8       0       0       0       0       0       0       0       0   \n",
       "12      9       0       0       0       0       0       0       0       0   \n",
       "13      0       0       0       0       0       0       0       0       0   \n",
       "14      2       0       0       0       0       1       1       0       0   \n",
       "15      2       0       0       0       0       0       0       0       0   \n",
       "16      9       0       0       0       0       0       0       0       0   \n",
       "17      3       0       0       0       0       0       0       0       0   \n",
       "18      3       0       0       0       0       0       0       0       0   \n",
       "19      3       0       0       0       0       0       0       0       0   \n",
       "\n",
       "    pixel9  ...  pixel775  pixel776  pixel777  pixel778  pixel779  pixel780  \\\n",
       "0        0  ...         0         0         0         0         0         0   \n",
       "1        0  ...         0         0         0         0         0         0   \n",
       "2        0  ...         0         0         0        30        43         0   \n",
       "3        0  ...         3         0         0         0         0         1   \n",
       "4        0  ...         0         0         0         0         0         0   \n",
       "5        5  ...         7         8         7         4         3         7   \n",
       "6        0  ...        14         0         0         0         0         0   \n",
       "7        0  ...         0         0         0         0         0         0   \n",
       "8        0  ...         1         0         0         0         0         0   \n",
       "9        0  ...       203       214       166         0         0         0   \n",
       "10       0  ...       164       177       163         0         0         1   \n",
       "11       0  ...         9        10         9         9         8         1   \n",
       "12       0  ...         0         0         0         0         0         0   \n",
       "13       0  ...         0         0         0         0         0         0   \n",
       "14       0  ...         0         0       118       190       162        82   \n",
       "15      16  ...         0         0         1         1         1         1   \n",
       "16       0  ...         0         0         0         0         0         0   \n",
       "17       0  ...       101        20         0         0         1         0   \n",
       "18       0  ...         0        11        15         0         0         0   \n",
       "19       0  ...         0         0         0         0         0         0   \n",
       "\n",
       "    pixel781  pixel782  pixel783  pixel784  \n",
       "0          0         0         0         0  \n",
       "1          0         0         0         0  \n",
       "2          0         0         0         0  \n",
       "3          0         0         0         0  \n",
       "4          0         0         0         0  \n",
       "5          5         0         0         0  \n",
       "6          0         0         0         0  \n",
       "7          0         0         0         0  \n",
       "8          0         0         0         0  \n",
       "9          0         0         0         0  \n",
       "10         0         0         0         0  \n",
       "11         0         0         0         0  \n",
       "12         0         0         0         0  \n",
       "13         1         0         0         0  \n",
       "14         0         0         0         0  \n",
       "15         0         0         0         0  \n",
       "16         0         0         0         0  \n",
       "17         0         0         0         0  \n",
       "18         0         0         0         0  \n",
       "19         0         0         0         0  \n",
       "\n",
       "[20 rows x 785 columns]"
      ]
     },
     "execution_count": 3,
     "metadata": {},
     "output_type": "execute_result"
    }
   ],
   "source": [
    "df_train_total[:20] #Veamos como son las primeras 20 filas del dataframe"
   ]
  },
  {
   "cell_type": "markdown",
   "id": "c429b33d-bab6-4d91-820d-79384728a39a",
   "metadata": {},
   "source": [
    "### Creo array que en la posicion i tiene asignada la prenda asociada a dicho valor"
   ]
  },
  {
   "cell_type": "code",
   "execution_count": 4,
   "id": "05d552a7-f65d-434f-913f-a7df1ba75d3c",
   "metadata": {},
   "outputs": [],
   "source": [
    "prendas = np.array([\"Remera/Top\", \"Pantalon\", \"Pullover\", \"Vestido\", \"Saco\", \"Sandalia\", \"Camisa\", \"Zapatilla\", \"Bolso\", \"Bota\"])\n"
   ]
  },
  {
   "cell_type": "markdown",
   "id": "fa892566-97f2-4830-b440-0d8f8cf2e75c",
   "metadata": {},
   "source": [
    "### Reducir el dataset\n",
    "\n",
    "Ya que el dataset es grande, me quedo con una porción de éste\n",
    "\n",
    "**<font color=red>ESTO ES SOLO PARA HACER PRUEBAS. CUANDO REPORTEN LOS RESULTADOS, USAR DATASET COMPLETO</font>**"
   ]
  },
  {
   "cell_type": "code",
   "execution_count": 5,
   "id": "84e82f16-5552-4012-b53a-c9056b175eb7",
   "metadata": {},
   "outputs": [],
   "source": [
    "df_train = df_train_total[:5000]"
   ]
  },
  {
   "cell_type": "code",
   "execution_count": 6,
   "id": "0241fe4b-df5c-4c19-938d-d90d546d89e6",
   "metadata": {},
   "outputs": [
    {
     "name": "stdout",
     "output_type": "stream",
     "text": [
      "(5000, 784) (5000, 1)\n"
     ]
    }
   ],
   "source": [
    "# Uso values para mandar todo a arrays de numpy\n",
    "X = df_train[df_train.columns[1:]].values\n",
    "y = df_train[\"label\"].values.reshape(-1, 1)\n",
    "\n",
    "print(X.shape, y.shape)"
   ]
  },
  {
   "cell_type": "code",
   "execution_count": 7,
   "id": "d9be34f0-bd36-498f-a2da-a224dc296883",
   "metadata": {},
   "outputs": [
    {
     "name": "stdout",
     "output_type": "stream",
     "text": [
      "Supuestamente es un/a Bota\n"
     ]
    },
    {
     "data": {
      "text/plain": [
       "<matplotlib.image.AxesImage at 0x7fa553867850>"
      ]
     },
     "execution_count": 7,
     "metadata": {},
     "output_type": "execute_result"
    },
    {
     "data": {
      "image/png": "[encoded data removed]",
      "text/plain": [
       "<Figure size 432x288 with 1 Axes>"
      ]
     },
     "metadata": {
      "needs_background": "light"
     },
     "output_type": "display_data"
    }
   ],
   "source": [
    "import matplotlib.pyplot as plt\n",
    "\n",
    "num = 117\n",
    "\n",
    "print(f\"Supuestamente es un/a {prendas[int(y[num])]}\")\n",
    "\n",
    "img = X[num].reshape(28, 28)\n",
    "plt.imshow(img, cmap=\"Greys\")"
   ]
  },
  {
   "cell_type": "markdown",
   "id": "35a81514-e141-4063-8caa-85a27c4771d4",
   "metadata": {},
   "source": [
    "### Balance de clases\n",
    "\n",
    "¿Tenemos la misma cantidad de cada número?"
   ]
  },
  {
   "cell_type": "code",
   "execution_count": 8,
   "id": "dfc32bbc-6eef-4043-ae50-22a013a55184",
   "metadata": {},
   "outputs": [
    {
     "data": {
      "text/plain": [
       "7    0.1034\n",
       "3    0.1028\n",
       "6    0.1016\n",
       "0    0.1004\n",
       "4    0.1002\n",
       "1    0.1000\n",
       "2    0.0988\n",
       "9    0.0988\n",
       "5    0.0978\n",
       "8    0.0962\n",
       "Name: label, dtype: float64"
      ]
     },
     "execution_count": 8,
     "metadata": {},
     "output_type": "execute_result"
    }
   ],
   "source": [
    "df_train[\"label\"].value_counts(normalize=True)"
   ]
  },
  {
   "cell_type": "markdown",
   "id": "59a9ac39-10c1-4bd7-a81c-9693cee2e34f",
   "metadata": {},
   "source": [
    "#### No, no hay la misma cantidad por cada prenda"
   ]
  },
  {
   "cell_type": "markdown",
   "id": "216c31e5-1438-4fb4-b7b0-bc3c78563829",
   "metadata": {},
   "source": [
    "### Conjunto de Development"
   ]
  },
  {
   "cell_type": "code",
   "execution_count": 54,
   "id": "580bd518-8f9f-4043-afb4-62ecf00fa2a4",
   "metadata": {},
   "outputs": [
    {
     "name": "stdout",
     "output_type": "stream",
     "text": [
      "Ahora tengo 4000 instancias de entrenamiento y 1000 de validación\n",
      "4000\n"
     ]
    }
   ],
   "source": [
    "limit = int(0.8 * X.shape[0]) \n",
    "\n",
    "X_train, y_train = X[:limit], y[:limit]\n",
    "X_val, y_val = X[limit:], y[limit:]\n",
    "\n",
    "assert len(X_train) == len(y_train)\n",
    "assert len(X_val) == len(y_val)\n",
    "\n",
    "print(f\"Ahora tengo {len(X_train)} instancias de entrenamiento y {len(X_val)} de validación\")\n",
    "print(limit) "
   ]
  },
  {
   "cell_type": "markdown",
   "id": "139c2f9c-afbd-4fdc-b908-9ff70d39a20b",
   "metadata": {},
   "source": [
    "### Uso los clasificadores de \"Scikit Learn\" (kNN, PCA, t-SNE, UMAP)"
   ]
  },
  {
   "cell_type": "code",
   "execution_count": 13,
   "id": "b769c0ce-c4d9-4a0b-b7ec-aa8b66077604",
   "metadata": {},
   "outputs": [
    {
     "name": "stderr",
     "output_type": "stream",
     "text": [
      "/home/tincho/.local/lib/python3.8/site-packages/sklearn/neighbors/_classification.py:198: DataConversionWarning: A column-vector y was passed when a 1d array was expected. Please change the shape of y to (n_samples,), for example using ravel().\n",
      "  return self._fit(X, y)\n"
     ]
    },
    {
     "data": {
      "text/plain": [
       "KNeighborsClassifier(n_neighbors=100)"
      ]
     },
     "execution_count": 13,
     "metadata": {},
     "output_type": "execute_result"
    }
   ],
   "source": [
    "from sklearn.neighbors import KNeighborsClassifier\n",
    "from sklearn.decomposition import PCA\n",
    "from sklearn.manifold import TSNE\n",
    "\n",
    "import umap\n",
    "\n",
    "from sklearn.model_selection import KFold\n",
    "from sklearn.metrics import accuracy_score, f1_score\n",
    "\n",
    "# Acá pueden cambiar el clasificador nuestro por el de sklearn!\n",
    "\n",
    "clf = KNeighborsClassifier(100)\n",
    "\n",
    "clf.fit(X_train, y_train)"
   ]
  },
  {
   "cell_type": "code",
   "execution_count": 14,
   "id": "badd6080-a536-4c1e-8eb1-4de9b682af49",
   "metadata": {},
   "outputs": [
    {
     "name": "stdout",
     "output_type": "stream",
     "text": [
      "Accuracy: 0.745\n",
      "CPU times: user 528 ms, sys: 236 ms, total: 764 ms\n",
      "Wall time: 165 ms\n"
     ]
    }
   ],
   "source": [
    "%%time\n",
    "from sklearn.metrics import accuracy_score\n",
    "y_pred = clf.predict(X_val)\n",
    "\n",
    "acc = accuracy_score(y_val, y_pred)\n",
    "print(\"Accuracy: {}\".format(acc))"
   ]
  },
  {
   "cell_type": "markdown",
   "id": "54ba4b65-8777-4866-89cb-c4b6ad828e99",
   "metadata": {},
   "source": [
    "### Variacion Tamanio de la muestra"
   ]
  },
  {
   "cell_type": "code",
   "execution_count": 55,
   "id": "cf163f40-b07d-44ed-8928-4e1ff90d428d",
   "metadata": {},
   "outputs": [],
   "source": [
    "def muestra(cant):\n",
    "    df_train_custom = df_train_total.sample(cant)\n",
    "    X_custom = df_train_custom[df_train_custom.columns[1:]].values\n",
    "    y_custom = df_train_custom[\"label\"].values\n",
    "    \n",
    "    return df_train_custom, X_custom, y_custom"
   ]
  },
  {
   "cell_type": "code",
   "execution_count": 56,
   "id": "2b0bd056-1c44-4b51-9979-caf8f4990d97",
   "metadata": {},
   "outputs": [],
   "source": [
    "df_train, X_train, y_train = muestra(10000)"
   ]
  },
  {
   "cell_type": "code",
   "execution_count": 58,
   "id": "8325bf9f-8b3d-4317-8b85-056f65833881",
   "metadata": {},
   "outputs": [
    {
     "name": "stdout",
     "output_type": "stream",
     "text": [
      "Ahora tengo 10000 instancias de entrenamiento\n"
     ]
    }
   ],
   "source": [
    "print(f\"Ahora tengo {len(X_train)} instancias de entrenamiento\")"
   ]
  },
  {
   "cell_type": "markdown",
   "id": "9c4653b4-bbc5-46fa-8b46-d4de6c994a61",
   "metadata": {},
   "source": [
    "### Estudios KFolds"
   ]
  },
  {
   "cell_type": "markdown",
   "id": "1e5137dc-cb20-4a0b-aa72-bbd3687bfe95",
   "metadata": {},
   "source": [
    "#### K-Folds: kNN"
   ]
  },
  {
   "cell_type": "code",
   "execution_count": 16,
   "id": "fcffb15f-5f99-40c1-8b75-ab60452a7c89",
   "metadata": {},
   "outputs": [],
   "source": [
    "def KFoldKNN(k, X, y):\n",
    "    kfold = KFold(10)\n",
    "    accuracyArr = []\n",
    "    \n",
    "    for i, fold in kfold.split(X):\n",
    "        \n",
    "        X_train = X[i]\n",
    "        y_train = y[i]\n",
    "        \n",
    "        X_test = X[fold]\n",
    "        y_test = y[fold]\n",
    "        \n",
    "        # Metodo kNN\n",
    "        kNN = KNeighborsClassifier(k)\n",
    "        \n",
    "        kNN.fit(X_train, y_train)\n",
    "\n",
    "        y_pred = kNN.predict(X_test)\n",
    "        \n",
    "        acc = accuracy_score(y_test, y_pred)\n",
    "        accuracyArr.append(acc)\n",
    "        \n",
    "    accuracyArr = np.asarray(accuracyArr)\n",
    "    mediaAccuracy = np.mean(accuracyArr)\n",
    "    \n",
    "    return mediaAccuracy"
   ]
  },
  {
   "cell_type": "markdown",
   "id": "fa2269e1-a111-4bb7-acff-df387873e5a6",
   "metadata": {},
   "source": [
    "#### (estudio k de vecinos)"
   ]
  },
  {
   "cell_type": "code",
   "execution_count": 26,
   "id": "fd0c5a43-8c51-49ad-87fb-b55e917d5fc5",
   "metadata": {},
   "outputs": [],
   "source": [
    "import time\n",
    "def estudio_k(k, X, y):\n",
    "    accuracyList = []\n",
    "    timeList = []\n",
    "    for i in range(1, k):\n",
    "        start = time.time()\n",
    "        mediaAccuracy = KFoldKNN(int(i), X, y)\n",
    "        accuracyList.append(mediaAccuracy)\n",
    "        end = time.time()\n",
    "        timeList.append(end-start)\n",
    "    accuracyList = np.asarray(accuracyList)\n",
    "    timeList = np.asarray(timeList)  \n",
    "    return accuracyList, timeList"
   ]
  },
  {
   "cell_type": "markdown",
   "id": "43b91ab7-dca9-4fcb-bb45-3179c17593d2",
   "metadata": {},
   "source": [
    "#### K-Folds: PCA (estudio alfa PCA)"
   ]
  },
  {
   "cell_type": "code",
   "execution_count": 37,
   "id": "765e9b20-710e-4785-8fdd-d617cd9c65ab",
   "metadata": {},
   "outputs": [],
   "source": [
    "def estudio_alfa_PCA(a, k, X, y):\n",
    "    accuracyList = []\n",
    "    timeList = []\n",
    "    for i in range(1, a):\n",
    "        # Realizo redimension\n",
    "        myPCA = PCA(n_components=int(i))\n",
    "        myPCA.fit(X)\n",
    "        X_PCA_train = myPCA.transform(X)\n",
    "        \n",
    "        # Aplico kNN como siempre\n",
    "        start = time.time()\n",
    "        mediaAccuracy = KFoldKNN(k, X_PCA_train, y)\n",
    "        accuracyList.append(mediaAccuracy)\n",
    "        end = time.time()\n",
    "        timeList.append(end-start)\n",
    "\n",
    "    accuracyList = np.asarray(accuracyList)\n",
    "    timeList = np.asarray(timeList) \n",
    "    return accuracyList, timeList"
   ]
  },
  {
   "cell_type": "markdown",
   "id": "9ec2b6b4-6c28-4773-91b0-947473142b6b",
   "metadata": {},
   "source": [
    "#### K-Folds: kNN con PCA (estudio vecino con alfa determinado)"
   ]
  },
  {
   "cell_type": "code",
   "execution_count": 69,
   "id": "f74261cd-8194-42b5-85fc-c2c83770d938",
   "metadata": {},
   "outputs": [],
   "source": [
    "def estudio_k_PCA(k, a, X, y):\n",
    "    accuracyList = []\n",
    "    timeList = []   \n",
    "    myPCA = PCA(n_components=int(a))\n",
    "    myPCA.fit(X)\n",
    "    X_PCA_train = myPCA.transform(X)\n",
    "    for i in range(1, k):\n",
    "        start = time.time()\n",
    "        mediaAccuracy = KFoldKNN(int(i), X_PCA_train, y)\n",
    "        accuracyList.append(mediaAccuracy)\n",
    "        end = time.time()\n",
    "        timeList.append(end-start)\n",
    "        \n",
    "    accuracyList = np.asarray(accuracyList)\n",
    "    timeList = np.asarray(timeList)    \n",
    "    return accuracyList, timeList"
   ]
  },
  {
   "cell_type": "markdown",
   "id": "03c1ef2a-2284-4867-847d-5c0d43a320e9",
   "metadata": {},
   "source": [
    "#### K-Folds: t-SNE"
   ]
  },
  {
   "cell_type": "markdown",
   "id": "35779f22-d6f0-4d7c-b819-cd4ba1f27666",
   "metadata": {},
   "source": [
    "Componentes "
   ]
  },
  {
   "cell_type": "code",
   "execution_count": 82,
   "id": "42f9cc65-ab01-46f8-8642-0a4fceff9194",
   "metadata": {},
   "outputs": [],
   "source": [
    "def estudio_componentes_TSNE(a, k, X, y):\n",
    "    accuracyList = []\n",
    "    timeList = []\n",
    "    for i in range(1, a):\n",
    "        # Realizo redimension\n",
    "        myTSNE = TSNE(n_components=int(i))\n",
    "        X_TSNE_train = myTSNE.fit_transform(X)\n",
    "        \n",
    "        # Aplico kNN como siempre\n",
    "        start = time.time()\n",
    "        mediaAccuracy = KFoldKNN(k, X_TSNE_train, y)\n",
    "        accuracyList.append(mediaAccuracy)\n",
    "        end = time.time()\n",
    "        timeList.append(end-start)\n",
    "    \n",
    "    accuracyList = np.asarray(accuracyList)\n",
    "    timeList = np.asarray(timeList)\n",
    "    return accuracyList, timeList"
   ]
  },
  {
   "cell_type": "markdown",
   "id": "f1c96315-2545-4057-aa6a-0e348ae390b9",
   "metadata": {},
   "source": [
    "Perplexity"
   ]
  },
  {
   "cell_type": "code",
   "execution_count": 83,
   "id": "f1cd1ba7-ef59-4b74-979c-29c7e5e9dd3f",
   "metadata": {},
   "outputs": [],
   "source": [
    "def estudio_perplexity_TSNE(k, a, n, X, y):\n",
    "    accuracyList = []\n",
    "    timeList = []\n",
    "    for i in range(1, n):\n",
    "        # Realizo redimension con neuvas perplexities\n",
    "        myTSNE = TSNE(n_components=int(a), perplexity=int(i))\n",
    "        X_TSNE_train = myTSNE.fit_transform(X)\n",
    "        \n",
    "        # Aplico kNN como siempre\n",
    "        start = time.time()\n",
    "        mediaAccuracy = KFoldKNN(k, X_TSNE_train, y)\n",
    "        accuracyList.append(mediaAccuracy)\n",
    "        end = time.time()\n",
    "        timeList.append(end-start)\n",
    "    \n",
    "    accuracyList = np.asarray(accuracyList)\n",
    "    timeList = np.asarray(timeList)\n",
    "    return accuracyList, timeList"
   ]
  },
  {
   "cell_type": "markdown",
   "id": "d8c2a113-816b-411c-8c3c-bc59eb8e84d0",
   "metadata": {},
   "source": [
    "Number of Iterations"
   ]
  },
  {
   "cell_type": "code",
   "execution_count": 147,
   "id": "91db6250-3197-4405-8ef3-f1c1f54ae630",
   "metadata": {},
   "outputs": [],
   "source": [
    "def estudio_iterations_TSNE(k, a, p, n, X, y):\n",
    "    accuracyList = []\n",
    "    timeList = []\n",
    "    iterList = np.linspace(1000,5000,n)\n",
    "    for i in range(1, n):\n",
    "        # Realizo redimension con nuevas iteraciones\n",
    "        myTSNE = TSNE(n_components=int(a), n_iter=int(iterList[i]), perplexity= int(p))\n",
    "        X_TSNE_train = myTSNE.fit_transform(X)\n",
    "        \n",
    "        # Aplico kNN como siempre\n",
    "        start = time.time()\n",
    "        mediaAccuracy = KFoldKNN(k, X_TSNE_train, y)\n",
    "        accuracyList.append(mediaAccuracy)\n",
    "        end = time.time()\n",
    "        timeList.append(end-start)\n",
    "    \n",
    "    accuracyList = np.asarray(accuracyList)\n",
    "    timeList = np.asarray(timeList)\n",
    "    return accuracyList, timeList"
   ]
  },
  {
   "cell_type": "markdown",
   "id": "9465daef-a49c-4422-97dd-821d4864d4a4",
   "metadata": {},
   "source": [
    "#### K-Folds: UMAP"
   ]
  },
  {
   "cell_type": "markdown",
   "id": "123b8ae8-ae21-4fd8-bff4-02baf5493cc0",
   "metadata": {},
   "source": [
    "Componentes"
   ]
  },
  {
   "cell_type": "code",
   "execution_count": 86,
   "id": "9376b3f2-00b8-4fa6-a2e7-8a9055a90fcf",
   "metadata": {},
   "outputs": [],
   "source": [
    "def estudio_componentes_UMAP(a, k, X, y):\n",
    "    accuracyList = []\n",
    "    timeList = []\n",
    "    for i in range(1, a):\n",
    "        # Realizo redimension\n",
    "        UMAP = umap.UMAP(n_components=int(i))\n",
    "        X_UMAP_train = UMAP.fit_transform(X)\n",
    "        \n",
    "        # Aplico kNN como siempre\n",
    "        start = time.time()\n",
    "        mediaAccuracy = KFoldKNN(k, X_UMAP_train, y)\n",
    "        accuracyList.append(mediaAccuracy)\n",
    "        end = time.time()\n",
    "        timeList.append(end-start)\n",
    "        \n",
    "    accuracyList = np.asarray(accuracyList)\n",
    "    timeList = np.asarray(timeList)\n",
    "    return accuracyList, timeList"
   ]
  },
  {
   "cell_type": "markdown",
   "id": "7b0f9b44-2fd6-4ef3-87ee-88dffe147e42",
   "metadata": {},
   "source": [
    "Minimum Distance"
   ]
  },
  {
   "cell_type": "code",
   "execution_count": 151,
   "id": "0f498208-5464-4f48-8c57-ade2bbba5dc9",
   "metadata": {},
   "outputs": [],
   "source": [
    "def estudio_min_dist_UMAP(k, a, n, X, y):\n",
    "    accuracyList = []\n",
    "    timeList = []\n",
    "    distList = np.linspace(0.1,1,n)\n",
    "    for i in range(0, distList.size):\n",
    "        # Realizo redimension con distinta distancia minima\n",
    "        UMAP = umap.UMAP(n_components=int(a), min_dist=distList[int(i)])\n",
    "        X_UMAP_train = UMAP.fit_transform(X)\n",
    "        \n",
    "        # Aplico kNN como siempre\n",
    "        start = time.time()\n",
    "        mediaAccuracy = KFoldKNN(k, X_UMAP_train, y)\n",
    "        accuracyList.append(mediaAccuracy)\n",
    "        end = time.time()\n",
    "        timeList.append(end-start)\n",
    "        \n",
    "    accuracyList = np.asarray(accuracyList)\n",
    "    timeList = np.asarray(timeList)\n",
    "    return accuracyList, timeList"
   ]
  },
  {
   "cell_type": "markdown",
   "id": "ccd76cc3-dd46-46d6-abac-98d36d2e11f9",
   "metadata": {},
   "source": [
    "### Testeo funciones"
   ]
  },
  {
   "cell_type": "markdown",
   "id": "19a6b638-f37d-449f-a372-00c755ddbe9c",
   "metadata": {},
   "source": [
    "#### Estudio k"
   ]
  },
  {
   "cell_type": "code",
   "execution_count": 59,
   "id": "d96c168a-4055-499b-83da-bd5a6c637866",
   "metadata": {
    "tags": []
   },
   "outputs": [
    {
     "name": "stdout",
     "output_type": "stream",
     "text": [
      "CPU times: user 13min 24s, sys: 6min 17s, total: 19min 41s\n",
      "Wall time: 4min 22s\n"
     ]
    }
   ],
   "source": [
    "%%time\n",
    "accuracyKNN100, timeKNN100 = estudio_k(100, X_train, y_train)"
   ]
  },
  {
   "cell_type": "code",
   "execution_count": 60,
   "id": "71613c6b-715a-43a0-aed7-7d12e640fe62",
   "metadata": {},
   "outputs": [
    {
     "name": "stdout",
     "output_type": "stream",
     "text": [
      "[0.8086 0.8051 0.8141 0.8156 0.8167 0.8187 0.8197 0.8168 0.8156 0.812\n",
      " 0.8112 0.8118 0.8108 0.811  0.8085 0.8081 0.8066 0.8069 0.8058 0.8056\n",
      " 0.8063 0.8066 0.8061 0.8045 0.8034 0.8024 0.8028 0.8021 0.8016 0.8007\n",
      " 0.8004 0.8004 0.7992 0.7986 0.7999 0.7982 0.7974 0.7979 0.7957 0.7966\n",
      " 0.7952 0.7946 0.7924 0.7946 0.7919 0.7927 0.7905 0.7909 0.7902 0.7891\n",
      " 0.7907 0.7895 0.7891 0.7899 0.7896 0.7897 0.7883 0.7884 0.7873 0.787\n",
      " 0.7863 0.7865 0.7853 0.7864 0.7855 0.7851 0.7843 0.7846 0.7847 0.7856\n",
      " 0.784  0.784  0.783  0.7828 0.7815 0.7825 0.7818 0.7821 0.7818 0.7814\n",
      " 0.7813 0.7804 0.7811 0.7809 0.7798 0.7795 0.7791 0.7791 0.7787 0.7779\n",
      " 0.7772 0.7776 0.7775 0.7782 0.7775 0.778  0.7776 0.7776 0.777 ]\n"
     ]
    }
   ],
   "source": [
    "print(accuracyKNN100)"
   ]
  },
  {
   "cell_type": "code",
   "execution_count": 61,
   "id": "238a09a4-36e3-4787-9acc-fad05dc6f258",
   "metadata": {},
   "outputs": [
    {
     "name": "stdout",
     "output_type": "stream",
     "text": [
      "[2.05540109 2.09175944 2.26785874 2.64335585 2.60453844 2.59541488\n",
      " 2.58062744 2.48309612 2.4923172  2.51747012 2.55222011 2.52152133\n",
      " 2.53175092 2.59400606 2.69860387 2.72858047 3.34368873 3.154737\n",
      " 2.84832025 2.86469674 2.60918331 2.86906314 2.75165296 2.87972784\n",
      " 2.90433669 2.5943346  2.55312967 2.91482496 2.56612444 2.63067222\n",
      " 2.69954395 2.58027053 2.64982963 2.68302727 2.54526949 2.51558065\n",
      " 2.53562307 2.5904572  2.58003354 2.575068   2.67075396 2.54456711\n",
      " 2.65910792 2.54782653 2.5626018  2.72236896 2.65389633 2.55982423\n",
      " 2.64943123 2.68717265 2.60715604 2.60593343 2.65527868 2.75256729\n",
      " 2.71629167 2.74695492 2.9135251  2.75355005 2.69842005 2.82056451\n",
      " 2.86890984 2.74937248 2.79301167 2.83425832 2.64733768 2.64232802\n",
      " 2.59819341 2.62215972 2.57053232 2.58144307 2.62011886 2.5918963\n",
      " 2.63617706 2.68068671 2.61805654 2.62537646 2.60207462 2.60373425\n",
      " 2.62701082 2.65513515 2.59374523 2.65429521 2.63808632 2.68266869\n",
      " 2.62035704 2.62697554 2.61406565 2.5931499  2.65902591 2.56215715\n",
      " 2.60924411 2.70275545 2.70490074 2.66596842 2.69321418 2.86767697\n",
      " 2.80824327 2.79493904 2.67848539]\n"
     ]
    }
   ],
   "source": [
    "print(timeKNN100)"
   ]
  },
  {
   "cell_type": "code",
   "execution_count": 62,
   "id": "99986cff-5a3d-4d1b-92bb-6eb1773bf8c8",
   "metadata": {},
   "outputs": [
    {
     "data": {
      "image/png": "[encoded data removed]",
      "text/plain": [
       "<Figure size 432x288 with 1 Axes>"
      ]
     },
     "metadata": {
      "needs_background": "light"
     },
     "output_type": "display_data"
    }
   ],
   "source": [
    "plt.title(\"Rendimiento de kNN\")\n",
    "plt.plot(range(1, 100), accuracyKNN100, color=\"orange\")\n",
    "plt.xlabel(\"k vecinos\")\n",
    "plt.ylabel(\"Accuracy\")\n",
    "plt.show()"
   ]
  },
  {
   "cell_type": "markdown",
   "id": "de4d2e0b-8268-4a26-b868-7cd3bea3f061",
   "metadata": {},
   "source": [
    "k con maximo rendimiento"
   ]
  },
  {
   "cell_type": "code",
   "execution_count": 63,
   "id": "9e2a730a-1328-40b4-a977-4fdc22b954cb",
   "metadata": {},
   "outputs": [
    {
     "name": "stdout",
     "output_type": "stream",
     "text": [
      "k con maximo rendimiento: 7\n"
     ]
    }
   ],
   "source": [
    "max_knn = max(accuracyKNN100)\n",
    "maxKNN100 = np.where(accuracyKNN100 == max_knn)[0][0] + 1\n",
    "print(f'k con maximo rendimiento: {maxKNN100}')"
   ]
  },
  {
   "cell_type": "markdown",
   "id": "5ece0e64-7379-41bc-9292-3aaf9c74ea35",
   "metadata": {},
   "source": [
    "#### Estudio de alfa"
   ]
  },
  {
   "cell_type": "code",
   "execution_count": 64,
   "id": "01510c33-12d5-4ea7-bd3a-069e2f194d8b",
   "metadata": {
    "tags": []
   },
   "outputs": [
    {
     "name": "stdout",
     "output_type": "stream",
     "text": [
      "CPU times: user 17min 15s, sys: 11min 41s, total: 28min 56s\n",
      "Wall time: 5min 37s\n"
     ]
    }
   ],
   "source": [
    "%%time\n",
    "accuracyAlpha150, timeAlpha150 = estudio_alfa_PCA(150, maxKNN100, X_train, y_train)"
   ]
  },
  {
   "cell_type": "code",
   "execution_count": 65,
   "id": "cad880fa-fe37-43f0-8fad-7d86b76f1f63",
   "metadata": {
    "tags": []
   },
   "outputs": [
    {
     "name": "stdout",
     "output_type": "stream",
     "text": [
      "[0.2504 0.508  0.6162 0.6887 0.7263 0.7508 0.7595 0.7643 0.7736 0.7863\n",
      " 0.7928 0.7973 0.8013 0.8015 0.8066 0.8067 0.8125 0.8145 0.8147 0.8157\n",
      " 0.8182 0.8193 0.8206 0.82   0.8215 0.8213 0.8219 0.8217 0.8223 0.8225\n",
      " 0.8243 0.8241 0.8244 0.824  0.8252 0.8248 0.8252 0.8239 0.8256 0.8259\n",
      " 0.8257 0.8253 0.8255 0.8248 0.8262 0.8253 0.8256 0.8243 0.8235 0.8248\n",
      " 0.8247 0.8254 0.8253 0.8256 0.8255 0.8257 0.8253 0.8253 0.8251 0.825\n",
      " 0.8257 0.8262 0.8275 0.8275 0.8274 0.8273 0.8279 0.8284 0.8281 0.8276\n",
      " 0.8274 0.8279 0.8283 0.8284 0.8272 0.8274 0.8281 0.8267 0.8258 0.8255\n",
      " 0.8268 0.8266 0.8267 0.8268 0.8284 0.8278 0.8269 0.8279 0.8276 0.8281\n",
      " 0.8283 0.8282 0.8281 0.8279 0.8274 0.8278 0.8276 0.8283 0.8273 0.8285\n",
      " 0.8269 0.8272 0.8274 0.8288 0.8278 0.8273 0.8285 0.8294 0.829  0.8283\n",
      " 0.8287 0.8292 0.8295 0.8302 0.8293 0.8299 0.8291 0.8293 0.8294 0.8296\n",
      " 0.8281 0.8281 0.8292 0.8288 0.8299 0.8297 0.8293 0.8285 0.8293 0.8292\n",
      " 0.8288 0.8293 0.8293 0.8288 0.8285 0.8289 0.8287 0.828  0.8282 0.8276\n",
      " 0.8295 0.8277 0.8297 0.8284 0.8282 0.8284 0.8284 0.8281 0.828 ]\n"
     ]
    }
   ],
   "source": [
    "print (accuracyAlpha150)"
   ]
  },
  {
   "cell_type": "code",
   "execution_count": 66,
   "id": "8578ce93-458b-492f-96e9-aa5b6423263f",
   "metadata": {},
   "outputs": [
    {
     "name": "stdout",
     "output_type": "stream",
     "text": [
      "[0.24414468 0.2705152  0.27976131 0.3035779  0.32211781 0.34840751\n",
      " 0.38415647 0.41931844 0.43483043 0.45832872 0.47970462 0.53207707\n",
      " 0.5506556  0.58899498 0.61873198 1.60368061 1.59357357 1.59083962\n",
      " 1.62038183 1.61051178 1.63076973 1.61143422 1.63949394 1.60136342\n",
      " 1.63188195 1.58657503 1.60963035 1.59789348 1.58548069 1.57290292\n",
      " 1.59965777 1.59589171 1.5865159  1.59197569 1.57926822 1.57958865\n",
      " 1.57554531 1.57834411 1.5757525  1.58080602 1.60720873 1.60660911\n",
      " 1.5889914  1.66367698 1.60585642 1.67575431 1.60526967 1.64008737\n",
      " 1.60382438 1.61045909 1.6770277  1.62277484 1.61595321 1.60310125\n",
      " 1.60385799 1.63124061 1.67383313 1.66271234 1.61936617 1.63304758\n",
      " 1.59684157 1.60606575 1.60685205 1.58205748 1.64395118 1.5945003\n",
      " 1.59302831 1.59799242 1.58947587 1.58358002 1.64152312 1.6414535\n",
      " 1.59887815 1.58517551 1.5885365  1.60563755 1.62755203 1.58864903\n",
      " 1.6087451  1.60006404 1.64942265 1.60873318 1.59487438 1.60574651\n",
      " 1.60466552 1.59105992 1.59464717 1.6034615  1.65078735 1.6054852\n",
      " 1.61722541 1.5953114  1.60120487 1.59722686 1.60222602 1.60024428\n",
      " 1.60098934 1.60582447 1.60173106 1.60169077 1.60148025 1.61478567\n",
      " 1.60254288 1.6141355  1.62041664 1.61754632 1.62120533 1.62174773\n",
      " 1.6129353  1.61697555 1.61158276 1.60772038 1.61415958 1.6143508\n",
      " 1.61456561 1.62838745 1.62160397 1.61238456 1.63135529 1.62856841\n",
      " 1.6272521  1.62709332 1.66083717 1.61924243 1.63545442 1.62818646\n",
      " 1.62964702 1.63436937 1.63981056 1.63534975 1.65461588 1.63227057\n",
      " 1.63494277 1.65330005 1.63456726 1.63749337 1.64006281 1.63666224\n",
      " 1.64300418 1.63383937 1.6410954  1.6347692  1.63968635 1.64386773\n",
      " 1.65560699 1.64984989 1.64947486 1.64352894 1.64500785]\n"
     ]
    }
   ],
   "source": [
    "print (timeAlpha150)"
   ]
  },
  {
   "cell_type": "code",
   "execution_count": 67,
   "id": "db50b0d3-8e4c-4267-9093-13e0fbb4537e",
   "metadata": {},
   "outputs": [
    {
     "name": "stdout",
     "output_type": "stream",
     "text": [
      "alfa con maximo rendimiento: 114\n"
     ]
    }
   ],
   "source": [
    "max_PCA = max(accuracyAlpha150)\n",
    "maxAlpha150 = np.where(accuracyAlpha150 == max_PCA)[0][0] + 1\n",
    "print(f'alfa con maximo rendimiento: {maxAlpha150}')"
   ]
  },
  {
   "cell_type": "code",
   "execution_count": 68,
   "id": "b36841d6-e2dc-4d28-b2fd-005b3c987dfd",
   "metadata": {},
   "outputs": [
    {
     "data": {
      "image/png": "[encoded data removed]",
      "text/plain": [
       "<Figure size 432x288 with 1 Axes>"
      ]
     },
     "metadata": {
      "needs_background": "light"
     },
     "output_type": "display_data"
    }
   ],
   "source": [
    "plt.title(\"Rendimiento de kNN con PCA y {maxKNN100} vecinos\")\n",
    "plt.plot(range(1, 150), accuracyAlpha150, color=\"orange\")\n",
    "plt.xlabel(\"Alfa\")\n",
    "plt.ylabel(\"Accuracy\")\n",
    "plt.show()"
   ]
  },
  {
   "cell_type": "markdown",
   "id": "12f5d5d3-97eb-4f4e-85f3-71f148a0174f",
   "metadata": {},
   "source": [
    "#### kNN con alfa elegido"
   ]
  },
  {
   "cell_type": "code",
   "execution_count": 72,
   "id": "1c19aa2a-22c0-4869-a528-52133aca9a14",
   "metadata": {
    "tags": []
   },
   "outputs": [
    {
     "name": "stdout",
     "output_type": "stream",
     "text": [
      "CPU times: user 7min 25s, sys: 5min 49s, total: 13min 14s\n",
      "Wall time: 2min 45s\n"
     ]
    }
   ],
   "source": [
    "%%time\n",
    "a100_kNN_PCA, time100_kNN_PCA = estudio_k_PCA(100, maxAlpha150, X_train, y_train)"
   ]
  },
  {
   "cell_type": "code",
   "execution_count": 79,
   "id": "c4b2f3e7-392b-41d5-9b0a-86614fd261b9",
   "metadata": {},
   "outputs": [
    {
     "data": {
      "image/png": "[encoded data removed]",
      "text/plain": [
       "<Figure size 432x288 with 1 Axes>"
      ]
     },
     "metadata": {
      "needs_background": "light"
     },
     "output_type": "display_data"
    }
   ],
   "source": [
    "rango = range(1, 100)\n",
    "plt.plot(rango, accuracyKNN100, label='Accuracy sin PCA')\n",
    "\n",
    "plt.plot(rango, a100_kNN_PCA, label=f'Accuracy a = {maxAlpha150}')\n",
    "\n",
    "\n",
    "plt.legend(loc='best')\n",
    "plt.title(f\"Comparación rendimiento k vecinos con alfa = {maxAlpha100} y sin PCA\")\n",
    "plt.grid(axis='y')\n",
    "plt.xlabel(\"k vecinos\")\n",
    "plt.ylabel(\"Accuracy\")\n",
    "plt.show()"
   ]
  },
  {
   "cell_type": "code",
   "execution_count": 77,
   "id": "a9fc1d5c-b409-4fc8-838f-df799b6ec833",
   "metadata": {},
   "outputs": [
    {
     "data": {
      "image/png": "[encoded data removed]",
      "text/plain": [
       "<Figure size 432x288 with 1 Axes>"
      ]
     },
     "metadata": {
      "needs_background": "light"
     },
     "output_type": "display_data"
    }
   ],
   "source": [
    "rango = range(1, 100)\n",
    "plt.plot(rango, timeKNN100, label='Tiempo de computo sin PCA')\n",
    "\n",
    "plt.plot(rango, time100_kNN_PCA, label=f'Tiempo de computo con a = {maxAlpha150}')\n",
    "\n",
    "\n",
    "plt.legend(loc='best')\n",
    "plt.title(f\"Comparación tiempo de computo k vecinos con alfa = {maxAlpha150} y sin PCA\")\n",
    "plt.grid(axis='y')\n",
    "plt.xlabel(\"k vecinos\")\n",
    "plt.ylabel(\"Tiempo de computo (segundos)\")\n",
    "plt.show()"
   ]
  },
  {
   "cell_type": "code",
   "execution_count": 75,
   "id": "42ba8c50-260b-4786-8a5f-b863c37ef644",
   "metadata": {},
   "outputs": [
    {
     "name": "stdout",
     "output_type": "stream",
     "text": [
      "k con maximo rendimiento: 5\n"
     ]
    }
   ],
   "source": [
    "max_knn_pca = max(a100_kNN_PCA)\n",
    "maxKNNPCA100 = np.where(a100_kNN_PCA == max_knn_pca)[0][0] + 1\n",
    "print(f'k con maximo rendimiento: {maxKNNPCA100}')"
   ]
  },
  {
   "cell_type": "markdown",
   "id": "f00544ea-40b7-4b32-bddd-bf6c4adb8f06",
   "metadata": {},
   "source": [
    "#### Estudio componentes tsne"
   ]
  },
  {
   "cell_type": "code",
   "execution_count": 89,
   "id": "a7751df1-6bca-4b92-9f3a-da620c17226e",
   "metadata": {
    "collapsed": true,
    "jupyter": {
     "outputs_hidden": true
    },
    "tags": []
   },
   "outputs": [
    {
     "name": "stderr",
     "output_type": "stream",
     "text": [
      "/home/tincho/.local/lib/python3.8/site-packages/sklearn/manifold/_t_sne.py:780: FutureWarning: The default initialization in TSNE will change from 'random' to 'pca' in 1.2.\n",
      "  warnings.warn(\n",
      "/home/tincho/.local/lib/python3.8/site-packages/sklearn/manifold/_t_sne.py:790: FutureWarning: The default learning rate in TSNE will change from 200.0 to 'auto' in 1.2.\n",
      "  warnings.warn(\n",
      "/home/tincho/.local/lib/python3.8/site-packages/sklearn/manifold/_t_sne.py:780: FutureWarning: The default initialization in TSNE will change from 'random' to 'pca' in 1.2.\n",
      "  warnings.warn(\n",
      "/home/tincho/.local/lib/python3.8/site-packages/sklearn/manifold/_t_sne.py:790: FutureWarning: The default learning rate in TSNE will change from 200.0 to 'auto' in 1.2.\n",
      "  warnings.warn(\n",
      "/home/tincho/.local/lib/python3.8/site-packages/sklearn/manifold/_t_sne.py:780: FutureWarning: The default initialization in TSNE will change from 'random' to 'pca' in 1.2.\n",
      "  warnings.warn(\n",
      "/home/tincho/.local/lib/python3.8/site-packages/sklearn/manifold/_t_sne.py:790: FutureWarning: The default learning rate in TSNE will change from 200.0 to 'auto' in 1.2.\n",
      "  warnings.warn(\n"
     ]
    },
    {
     "name": "stdout",
     "output_type": "stream",
     "text": [
      "CPU times: user 8min 23s, sys: 6.4 s, total: 8min 29s\n",
      "Wall time: 1min 30s\n"
     ]
    }
   ],
   "source": [
    "%%time\n",
    "accuracyTSNE4, timeTSNE4 = estudio_componentes_TSNE(4, maxKNN100, X_train, y_train)"
   ]
  },
  {
   "cell_type": "code",
   "execution_count": 90,
   "id": "f0aaad3a-67b7-4e6c-81dc-39aecad243f1",
   "metadata": {},
   "outputs": [
    {
     "name": "stdout",
     "output_type": "stream",
     "text": [
      "[0.7514 0.805  0.8144]\n"
     ]
    }
   ],
   "source": [
    "print(accuracyTSNE4)"
   ]
  },
  {
   "cell_type": "code",
   "execution_count": 91,
   "id": "a33c5272-bf74-4524-9618-e621ca041e6c",
   "metadata": {},
   "outputs": [
    {
     "name": "stdout",
     "output_type": "stream",
     "text": [
      "[0.22518945 0.24350572 0.25557828]\n"
     ]
    }
   ],
   "source": [
    "print(timeTSNE4)"
   ]
  },
  {
   "cell_type": "code",
   "execution_count": 100,
   "id": "e0abb187-f764-4865-a4e4-33909fc8317b",
   "metadata": {},
   "outputs": [
    {
     "data": {
      "image/png": "[encoded data removed]",
      "text/plain": [
       "<Figure size 432x288 with 1 Axes>"
      ]
     },
     "metadata": {
      "needs_background": "light"
     },
     "output_type": "display_data"
    }
   ],
   "source": [
    "rango = range(1, 4)\n",
    "plt.plot(rango, accuracyTSNE4, label='ACC kNN con TSNE 4 componentes')\n",
    "\n",
    "plt.legend(loc='best')\n",
    "plt.title(\"Rendimiento de kNN con tSNE y 4 componentes\")\n",
    "plt.grid(axis='y')\n",
    "plt.xlabel(\"Componentes\")\n",
    "plt.ylabel(\"Accuracy\")\n",
    "plt.show()"
   ]
  },
  {
   "cell_type": "code",
   "execution_count": 98,
   "id": "d60223de-0eed-426a-82de-cc8d0684e6f5",
   "metadata": {},
   "outputs": [
    {
     "name": "stdout",
     "output_type": "stream",
     "text": [
      "Componente con maximo rendimiento: 3\n"
     ]
    }
   ],
   "source": [
    "max_tsne_n = max(accuracyTSNE4)\n",
    "maxTSNE4 = np.where(accuracyTSNE4 == max_tsne_n)[0][0] + 1\n",
    "print(f'Componente con maximo rendimiento: {maxTSNE4}')"
   ]
  },
  {
   "cell_type": "markdown",
   "id": "bef00d19-51f5-4bda-b3ca-fc3af4cc2ce7",
   "metadata": {},
   "source": [
    "#### Estudio Perplexity TSNE"
   ]
  },
  {
   "cell_type": "code",
   "execution_count": 101,
   "id": "15fbe8c0-781a-480c-950b-a2d180ad17e4",
   "metadata": {
    "collapsed": true,
    "jupyter": {
     "outputs_hidden": true
    },
    "tags": []
   },
   "outputs": [
    {
     "name": "stderr",
     "output_type": "stream",
     "text": [
      "/home/tincho/.local/lib/python3.8/site-packages/sklearn/manifold/_t_sne.py:780: FutureWarning: The default initialization in TSNE will change from 'random' to 'pca' in 1.2.\n",
      "  warnings.warn(\n",
      "/home/tincho/.local/lib/python3.8/site-packages/sklearn/manifold/_t_sne.py:790: FutureWarning: The default learning rate in TSNE will change from 200.0 to 'auto' in 1.2.\n",
      "  warnings.warn(\n",
      "/home/tincho/.local/lib/python3.8/site-packages/sklearn/manifold/_t_sne.py:780: FutureWarning: The default initialization in TSNE will change from 'random' to 'pca' in 1.2.\n",
      "  warnings.warn(\n",
      "/home/tincho/.local/lib/python3.8/site-packages/sklearn/manifold/_t_sne.py:790: FutureWarning: The default learning rate in TSNE will change from 200.0 to 'auto' in 1.2.\n",
      "  warnings.warn(\n",
      "/home/tincho/.local/lib/python3.8/site-packages/sklearn/manifold/_t_sne.py:780: FutureWarning: The default initialization in TSNE will change from 'random' to 'pca' in 1.2.\n",
      "  warnings.warn(\n",
      "/home/tincho/.local/lib/python3.8/site-packages/sklearn/manifold/_t_sne.py:790: FutureWarning: The default learning rate in TSNE will change from 200.0 to 'auto' in 1.2.\n",
      "  warnings.warn(\n",
      "/home/tincho/.local/lib/python3.8/site-packages/sklearn/manifold/_t_sne.py:780: FutureWarning: The default initialization in TSNE will change from 'random' to 'pca' in 1.2.\n",
      "  warnings.warn(\n",
      "/home/tincho/.local/lib/python3.8/site-packages/sklearn/manifold/_t_sne.py:790: FutureWarning: The default learning rate in TSNE will change from 200.0 to 'auto' in 1.2.\n",
      "  warnings.warn(\n",
      "/home/tincho/.local/lib/python3.8/site-packages/sklearn/manifold/_t_sne.py:780: FutureWarning: The default initialization in TSNE will change from 'random' to 'pca' in 1.2.\n",
      "  warnings.warn(\n",
      "/home/tincho/.local/lib/python3.8/site-packages/sklearn/manifold/_t_sne.py:790: FutureWarning: The default learning rate in TSNE will change from 200.0 to 'auto' in 1.2.\n",
      "  warnings.warn(\n",
      "/home/tincho/.local/lib/python3.8/site-packages/sklearn/manifold/_t_sne.py:780: FutureWarning: The default initialization in TSNE will change from 'random' to 'pca' in 1.2.\n",
      "  warnings.warn(\n",
      "/home/tincho/.local/lib/python3.8/site-packages/sklearn/manifold/_t_sne.py:790: FutureWarning: The default learning rate in TSNE will change from 200.0 to 'auto' in 1.2.\n",
      "  warnings.warn(\n",
      "/home/tincho/.local/lib/python3.8/site-packages/sklearn/manifold/_t_sne.py:780: FutureWarning: The default initialization in TSNE will change from 'random' to 'pca' in 1.2.\n",
      "  warnings.warn(\n",
      "/home/tincho/.local/lib/python3.8/site-packages/sklearn/manifold/_t_sne.py:790: FutureWarning: The default learning rate in TSNE will change from 200.0 to 'auto' in 1.2.\n",
      "  warnings.warn(\n",
      "/home/tincho/.local/lib/python3.8/site-packages/sklearn/manifold/_t_sne.py:780: FutureWarning: The default initialization in TSNE will change from 'random' to 'pca' in 1.2.\n",
      "  warnings.warn(\n",
      "/home/tincho/.local/lib/python3.8/site-packages/sklearn/manifold/_t_sne.py:790: FutureWarning: The default learning rate in TSNE will change from 200.0 to 'auto' in 1.2.\n",
      "  warnings.warn(\n",
      "/home/tincho/.local/lib/python3.8/site-packages/sklearn/manifold/_t_sne.py:780: FutureWarning: The default initialization in TSNE will change from 'random' to 'pca' in 1.2.\n",
      "  warnings.warn(\n",
      "/home/tincho/.local/lib/python3.8/site-packages/sklearn/manifold/_t_sne.py:790: FutureWarning: The default learning rate in TSNE will change from 200.0 to 'auto' in 1.2.\n",
      "  warnings.warn(\n",
      "/home/tincho/.local/lib/python3.8/site-packages/sklearn/manifold/_t_sne.py:780: FutureWarning: The default initialization in TSNE will change from 'random' to 'pca' in 1.2.\n",
      "  warnings.warn(\n",
      "/home/tincho/.local/lib/python3.8/site-packages/sklearn/manifold/_t_sne.py:790: FutureWarning: The default learning rate in TSNE will change from 200.0 to 'auto' in 1.2.\n",
      "  warnings.warn(\n",
      "/home/tincho/.local/lib/python3.8/site-packages/sklearn/manifold/_t_sne.py:780: FutureWarning: The default initialization in TSNE will change from 'random' to 'pca' in 1.2.\n",
      "  warnings.warn(\n",
      "/home/tincho/.local/lib/python3.8/site-packages/sklearn/manifold/_t_sne.py:790: FutureWarning: The default learning rate in TSNE will change from 200.0 to 'auto' in 1.2.\n",
      "  warnings.warn(\n",
      "/home/tincho/.local/lib/python3.8/site-packages/sklearn/manifold/_t_sne.py:780: FutureWarning: The default initialization in TSNE will change from 'random' to 'pca' in 1.2.\n",
      "  warnings.warn(\n",
      "/home/tincho/.local/lib/python3.8/site-packages/sklearn/manifold/_t_sne.py:790: FutureWarning: The default learning rate in TSNE will change from 200.0 to 'auto' in 1.2.\n",
      "  warnings.warn(\n",
      "/home/tincho/.local/lib/python3.8/site-packages/sklearn/manifold/_t_sne.py:780: FutureWarning: The default initialization in TSNE will change from 'random' to 'pca' in 1.2.\n",
      "  warnings.warn(\n",
      "/home/tincho/.local/lib/python3.8/site-packages/sklearn/manifold/_t_sne.py:790: FutureWarning: The default learning rate in TSNE will change from 200.0 to 'auto' in 1.2.\n",
      "  warnings.warn(\n",
      "/home/tincho/.local/lib/python3.8/site-packages/sklearn/manifold/_t_sne.py:780: FutureWarning: The default initialization in TSNE will change from 'random' to 'pca' in 1.2.\n",
      "  warnings.warn(\n",
      "/home/tincho/.local/lib/python3.8/site-packages/sklearn/manifold/_t_sne.py:790: FutureWarning: The default learning rate in TSNE will change from 200.0 to 'auto' in 1.2.\n",
      "  warnings.warn(\n",
      "/home/tincho/.local/lib/python3.8/site-packages/sklearn/manifold/_t_sne.py:780: FutureWarning: The default initialization in TSNE will change from 'random' to 'pca' in 1.2.\n",
      "  warnings.warn(\n",
      "/home/tincho/.local/lib/python3.8/site-packages/sklearn/manifold/_t_sne.py:790: FutureWarning: The default learning rate in TSNE will change from 200.0 to 'auto' in 1.2.\n",
      "  warnings.warn(\n",
      "/home/tincho/.local/lib/python3.8/site-packages/sklearn/manifold/_t_sne.py:780: FutureWarning: The default initialization in TSNE will change from 'random' to 'pca' in 1.2.\n",
      "  warnings.warn(\n",
      "/home/tincho/.local/lib/python3.8/site-packages/sklearn/manifold/_t_sne.py:790: FutureWarning: The default learning rate in TSNE will change from 200.0 to 'auto' in 1.2.\n",
      "  warnings.warn(\n",
      "/home/tincho/.local/lib/python3.8/site-packages/sklearn/manifold/_t_sne.py:780: FutureWarning: The default initialization in TSNE will change from 'random' to 'pca' in 1.2.\n",
      "  warnings.warn(\n",
      "/home/tincho/.local/lib/python3.8/site-packages/sklearn/manifold/_t_sne.py:790: FutureWarning: The default learning rate in TSNE will change from 200.0 to 'auto' in 1.2.\n",
      "  warnings.warn(\n",
      "/home/tincho/.local/lib/python3.8/site-packages/sklearn/manifold/_t_sne.py:780: FutureWarning: The default initialization in TSNE will change from 'random' to 'pca' in 1.2.\n",
      "  warnings.warn(\n",
      "/home/tincho/.local/lib/python3.8/site-packages/sklearn/manifold/_t_sne.py:790: FutureWarning: The default learning rate in TSNE will change from 200.0 to 'auto' in 1.2.\n",
      "  warnings.warn(\n",
      "/home/tincho/.local/lib/python3.8/site-packages/sklearn/manifold/_t_sne.py:780: FutureWarning: The default initialization in TSNE will change from 'random' to 'pca' in 1.2.\n",
      "  warnings.warn(\n",
      "/home/tincho/.local/lib/python3.8/site-packages/sklearn/manifold/_t_sne.py:790: FutureWarning: The default learning rate in TSNE will change from 200.0 to 'auto' in 1.2.\n",
      "  warnings.warn(\n",
      "/home/tincho/.local/lib/python3.8/site-packages/sklearn/manifold/_t_sne.py:780: FutureWarning: The default initialization in TSNE will change from 'random' to 'pca' in 1.2.\n",
      "  warnings.warn(\n",
      "/home/tincho/.local/lib/python3.8/site-packages/sklearn/manifold/_t_sne.py:790: FutureWarning: The default learning rate in TSNE will change from 200.0 to 'auto' in 1.2.\n",
      "  warnings.warn(\n",
      "/home/tincho/.local/lib/python3.8/site-packages/sklearn/manifold/_t_sne.py:780: FutureWarning: The default initialization in TSNE will change from 'random' to 'pca' in 1.2.\n",
      "  warnings.warn(\n",
      "/home/tincho/.local/lib/python3.8/site-packages/sklearn/manifold/_t_sne.py:790: FutureWarning: The default learning rate in TSNE will change from 200.0 to 'auto' in 1.2.\n",
      "  warnings.warn(\n",
      "/home/tincho/.local/lib/python3.8/site-packages/sklearn/manifold/_t_sne.py:780: FutureWarning: The default initialization in TSNE will change from 'random' to 'pca' in 1.2.\n",
      "  warnings.warn(\n",
      "/home/tincho/.local/lib/python3.8/site-packages/sklearn/manifold/_t_sne.py:790: FutureWarning: The default learning rate in TSNE will change from 200.0 to 'auto' in 1.2.\n",
      "  warnings.warn(\n",
      "/home/tincho/.local/lib/python3.8/site-packages/sklearn/manifold/_t_sne.py:780: FutureWarning: The default initialization in TSNE will change from 'random' to 'pca' in 1.2.\n",
      "  warnings.warn(\n",
      "/home/tincho/.local/lib/python3.8/site-packages/sklearn/manifold/_t_sne.py:790: FutureWarning: The default learning rate in TSNE will change from 200.0 to 'auto' in 1.2.\n",
      "  warnings.warn(\n",
      "/home/tincho/.local/lib/python3.8/site-packages/sklearn/manifold/_t_sne.py:780: FutureWarning: The default initialization in TSNE will change from 'random' to 'pca' in 1.2.\n",
      "  warnings.warn(\n",
      "/home/tincho/.local/lib/python3.8/site-packages/sklearn/manifold/_t_sne.py:790: FutureWarning: The default learning rate in TSNE will change from 200.0 to 'auto' in 1.2.\n",
      "  warnings.warn(\n",
      "/home/tincho/.local/lib/python3.8/site-packages/sklearn/manifold/_t_sne.py:780: FutureWarning: The default initialization in TSNE will change from 'random' to 'pca' in 1.2.\n",
      "  warnings.warn(\n",
      "/home/tincho/.local/lib/python3.8/site-packages/sklearn/manifold/_t_sne.py:790: FutureWarning: The default learning rate in TSNE will change from 200.0 to 'auto' in 1.2.\n",
      "  warnings.warn(\n",
      "/home/tincho/.local/lib/python3.8/site-packages/sklearn/manifold/_t_sne.py:780: FutureWarning: The default initialization in TSNE will change from 'random' to 'pca' in 1.2.\n",
      "  warnings.warn(\n",
      "/home/tincho/.local/lib/python3.8/site-packages/sklearn/manifold/_t_sne.py:790: FutureWarning: The default learning rate in TSNE will change from 200.0 to 'auto' in 1.2.\n",
      "  warnings.warn(\n",
      "/home/tincho/.local/lib/python3.8/site-packages/sklearn/manifold/_t_sne.py:780: FutureWarning: The default initialization in TSNE will change from 'random' to 'pca' in 1.2.\n",
      "  warnings.warn(\n",
      "/home/tincho/.local/lib/python3.8/site-packages/sklearn/manifold/_t_sne.py:790: FutureWarning: The default learning rate in TSNE will change from 200.0 to 'auto' in 1.2.\n",
      "  warnings.warn(\n",
      "/home/tincho/.local/lib/python3.8/site-packages/sklearn/manifold/_t_sne.py:780: FutureWarning: The default initialization in TSNE will change from 'random' to 'pca' in 1.2.\n",
      "  warnings.warn(\n",
      "/home/tincho/.local/lib/python3.8/site-packages/sklearn/manifold/_t_sne.py:790: FutureWarning: The default learning rate in TSNE will change from 200.0 to 'auto' in 1.2.\n",
      "  warnings.warn(\n",
      "/home/tincho/.local/lib/python3.8/site-packages/sklearn/manifold/_t_sne.py:780: FutureWarning: The default initialization in TSNE will change from 'random' to 'pca' in 1.2.\n",
      "  warnings.warn(\n",
      "/home/tincho/.local/lib/python3.8/site-packages/sklearn/manifold/_t_sne.py:790: FutureWarning: The default learning rate in TSNE will change from 200.0 to 'auto' in 1.2.\n",
      "  warnings.warn(\n",
      "/home/tincho/.local/lib/python3.8/site-packages/sklearn/manifold/_t_sne.py:780: FutureWarning: The default initialization in TSNE will change from 'random' to 'pca' in 1.2.\n",
      "  warnings.warn(\n",
      "/home/tincho/.local/lib/python3.8/site-packages/sklearn/manifold/_t_sne.py:790: FutureWarning: The default learning rate in TSNE will change from 200.0 to 'auto' in 1.2.\n",
      "  warnings.warn(\n",
      "/home/tincho/.local/lib/python3.8/site-packages/sklearn/manifold/_t_sne.py:780: FutureWarning: The default initialization in TSNE will change from 'random' to 'pca' in 1.2.\n",
      "  warnings.warn(\n",
      "/home/tincho/.local/lib/python3.8/site-packages/sklearn/manifold/_t_sne.py:790: FutureWarning: The default learning rate in TSNE will change from 200.0 to 'auto' in 1.2.\n",
      "  warnings.warn(\n",
      "/home/tincho/.local/lib/python3.8/site-packages/sklearn/manifold/_t_sne.py:780: FutureWarning: The default initialization in TSNE will change from 'random' to 'pca' in 1.2.\n",
      "  warnings.warn(\n",
      "/home/tincho/.local/lib/python3.8/site-packages/sklearn/manifold/_t_sne.py:790: FutureWarning: The default learning rate in TSNE will change from 200.0 to 'auto' in 1.2.\n",
      "  warnings.warn(\n",
      "/home/tincho/.local/lib/python3.8/site-packages/sklearn/manifold/_t_sne.py:780: FutureWarning: The default initialization in TSNE will change from 'random' to 'pca' in 1.2.\n",
      "  warnings.warn(\n",
      "/home/tincho/.local/lib/python3.8/site-packages/sklearn/manifold/_t_sne.py:790: FutureWarning: The default learning rate in TSNE will change from 200.0 to 'auto' in 1.2.\n",
      "  warnings.warn(\n",
      "/home/tincho/.local/lib/python3.8/site-packages/sklearn/manifold/_t_sne.py:780: FutureWarning: The default initialization in TSNE will change from 'random' to 'pca' in 1.2.\n",
      "  warnings.warn(\n",
      "/home/tincho/.local/lib/python3.8/site-packages/sklearn/manifold/_t_sne.py:790: FutureWarning: The default learning rate in TSNE will change from 200.0 to 'auto' in 1.2.\n",
      "  warnings.warn(\n",
      "/home/tincho/.local/lib/python3.8/site-packages/sklearn/manifold/_t_sne.py:780: FutureWarning: The default initialization in TSNE will change from 'random' to 'pca' in 1.2.\n",
      "  warnings.warn(\n",
      "/home/tincho/.local/lib/python3.8/site-packages/sklearn/manifold/_t_sne.py:790: FutureWarning: The default learning rate in TSNE will change from 200.0 to 'auto' in 1.2.\n",
      "  warnings.warn(\n",
      "/home/tincho/.local/lib/python3.8/site-packages/sklearn/manifold/_t_sne.py:780: FutureWarning: The default initialization in TSNE will change from 'random' to 'pca' in 1.2.\n",
      "  warnings.warn(\n",
      "/home/tincho/.local/lib/python3.8/site-packages/sklearn/manifold/_t_sne.py:790: FutureWarning: The default learning rate in TSNE will change from 200.0 to 'auto' in 1.2.\n",
      "  warnings.warn(\n",
      "/home/tincho/.local/lib/python3.8/site-packages/sklearn/manifold/_t_sne.py:780: FutureWarning: The default initialization in TSNE will change from 'random' to 'pca' in 1.2.\n",
      "  warnings.warn(\n",
      "/home/tincho/.local/lib/python3.8/site-packages/sklearn/manifold/_t_sne.py:790: FutureWarning: The default learning rate in TSNE will change from 200.0 to 'auto' in 1.2.\n",
      "  warnings.warn(\n",
      "/home/tincho/.local/lib/python3.8/site-packages/sklearn/manifold/_t_sne.py:780: FutureWarning: The default initialization in TSNE will change from 'random' to 'pca' in 1.2.\n",
      "  warnings.warn(\n",
      "/home/tincho/.local/lib/python3.8/site-packages/sklearn/manifold/_t_sne.py:790: FutureWarning: The default learning rate in TSNE will change from 200.0 to 'auto' in 1.2.\n",
      "  warnings.warn(\n",
      "/home/tincho/.local/lib/python3.8/site-packages/sklearn/manifold/_t_sne.py:780: FutureWarning: The default initialization in TSNE will change from 'random' to 'pca' in 1.2.\n",
      "  warnings.warn(\n",
      "/home/tincho/.local/lib/python3.8/site-packages/sklearn/manifold/_t_sne.py:790: FutureWarning: The default learning rate in TSNE will change from 200.0 to 'auto' in 1.2.\n",
      "  warnings.warn(\n",
      "/home/tincho/.local/lib/python3.8/site-packages/sklearn/manifold/_t_sne.py:780: FutureWarning: The default initialization in TSNE will change from 'random' to 'pca' in 1.2.\n",
      "  warnings.warn(\n",
      "/home/tincho/.local/lib/python3.8/site-packages/sklearn/manifold/_t_sne.py:790: FutureWarning: The default learning rate in TSNE will change from 200.0 to 'auto' in 1.2.\n",
      "  warnings.warn(\n",
      "/home/tincho/.local/lib/python3.8/site-packages/sklearn/manifold/_t_sne.py:780: FutureWarning: The default initialization in TSNE will change from 'random' to 'pca' in 1.2.\n",
      "  warnings.warn(\n",
      "/home/tincho/.local/lib/python3.8/site-packages/sklearn/manifold/_t_sne.py:790: FutureWarning: The default learning rate in TSNE will change from 200.0 to 'auto' in 1.2.\n",
      "  warnings.warn(\n",
      "/home/tincho/.local/lib/python3.8/site-packages/sklearn/manifold/_t_sne.py:780: FutureWarning: The default initialization in TSNE will change from 'random' to 'pca' in 1.2.\n",
      "  warnings.warn(\n",
      "/home/tincho/.local/lib/python3.8/site-packages/sklearn/manifold/_t_sne.py:790: FutureWarning: The default learning rate in TSNE will change from 200.0 to 'auto' in 1.2.\n",
      "  warnings.warn(\n",
      "/home/tincho/.local/lib/python3.8/site-packages/sklearn/manifold/_t_sne.py:780: FutureWarning: The default initialization in TSNE will change from 'random' to 'pca' in 1.2.\n",
      "  warnings.warn(\n",
      "/home/tincho/.local/lib/python3.8/site-packages/sklearn/manifold/_t_sne.py:790: FutureWarning: The default learning rate in TSNE will change from 200.0 to 'auto' in 1.2.\n",
      "  warnings.warn(\n",
      "/home/tincho/.local/lib/python3.8/site-packages/sklearn/manifold/_t_sne.py:780: FutureWarning: The default initialization in TSNE will change from 'random' to 'pca' in 1.2.\n",
      "  warnings.warn(\n",
      "/home/tincho/.local/lib/python3.8/site-packages/sklearn/manifold/_t_sne.py:790: FutureWarning: The default learning rate in TSNE will change from 200.0 to 'auto' in 1.2.\n",
      "  warnings.warn(\n",
      "/home/tincho/.local/lib/python3.8/site-packages/sklearn/manifold/_t_sne.py:780: FutureWarning: The default initialization in TSNE will change from 'random' to 'pca' in 1.2.\n",
      "  warnings.warn(\n",
      "/home/tincho/.local/lib/python3.8/site-packages/sklearn/manifold/_t_sne.py:790: FutureWarning: The default learning rate in TSNE will change from 200.0 to 'auto' in 1.2.\n",
      "  warnings.warn(\n",
      "/home/tincho/.local/lib/python3.8/site-packages/sklearn/manifold/_t_sne.py:780: FutureWarning: The default initialization in TSNE will change from 'random' to 'pca' in 1.2.\n",
      "  warnings.warn(\n",
      "/home/tincho/.local/lib/python3.8/site-packages/sklearn/manifold/_t_sne.py:790: FutureWarning: The default learning rate in TSNE will change from 200.0 to 'auto' in 1.2.\n",
      "  warnings.warn(\n",
      "/home/tincho/.local/lib/python3.8/site-packages/sklearn/manifold/_t_sne.py:780: FutureWarning: The default initialization in TSNE will change from 'random' to 'pca' in 1.2.\n",
      "  warnings.warn(\n",
      "/home/tincho/.local/lib/python3.8/site-packages/sklearn/manifold/_t_sne.py:790: FutureWarning: The default learning rate in TSNE will change from 200.0 to 'auto' in 1.2.\n",
      "  warnings.warn(\n",
      "/home/tincho/.local/lib/python3.8/site-packages/sklearn/manifold/_t_sne.py:780: FutureWarning: The default initialization in TSNE will change from 'random' to 'pca' in 1.2.\n",
      "  warnings.warn(\n",
      "/home/tincho/.local/lib/python3.8/site-packages/sklearn/manifold/_t_sne.py:790: FutureWarning: The default learning rate in TSNE will change from 200.0 to 'auto' in 1.2.\n",
      "  warnings.warn(\n",
      "/home/tincho/.local/lib/python3.8/site-packages/sklearn/manifold/_t_sne.py:780: FutureWarning: The default initialization in TSNE will change from 'random' to 'pca' in 1.2.\n",
      "  warnings.warn(\n",
      "/home/tincho/.local/lib/python3.8/site-packages/sklearn/manifold/_t_sne.py:790: FutureWarning: The default learning rate in TSNE will change from 200.0 to 'auto' in 1.2.\n",
      "  warnings.warn(\n"
     ]
    },
    {
     "name": "stdout",
     "output_type": "stream",
     "text": [
      "CPU times: user 4h 3min 26s, sys: 1min 40s, total: 4h 5min 7s\n",
      "Wall time: 42min 12s\n"
     ]
    }
   ],
   "source": [
    "%%time\n",
    "accuracyPerplexity, timePerplexity = estudio_perplexity_TSNE(maxKNN100, maxTSNE4, 50, X_train, y_train)"
   ]
  },
  {
   "cell_type": "code",
   "execution_count": 102,
   "id": "b3768689-8b8a-4300-90c9-b3cbd89904ab",
   "metadata": {},
   "outputs": [
    {
     "name": "stdout",
     "output_type": "stream",
     "text": [
      "[0.6685 0.7978 0.8046 0.807  0.811  0.8101 0.8123 0.8141 0.813  0.815\n",
      " 0.8138 0.813  0.8124 0.8115 0.8139 0.8169 0.8145 0.8174 0.8152 0.8137\n",
      " 0.8157 0.8144 0.8144 0.8156 0.8144 0.8135 0.8155 0.816  0.8134 0.8145\n",
      " 0.8146 0.8137 0.8135 0.8144 0.8116 0.8152 0.8137 0.8093 0.8134 0.8115\n",
      " 0.8117 0.8101 0.811  0.8122 0.8116 0.8104 0.8095 0.8103 0.8117]\n"
     ]
    }
   ],
   "source": [
    "print(accuracyPerplexity)"
   ]
  },
  {
   "cell_type": "code",
   "execution_count": 103,
   "id": "56668b57-4844-4307-ae2d-cf1532747ce5",
   "metadata": {},
   "outputs": [
    {
     "name": "stdout",
     "output_type": "stream",
     "text": [
      "[0.2688036  0.25769401 0.32480097 0.25971365 0.25361037 0.25197864\n",
      " 0.26045036 0.2631917  0.25935197 0.26374388 0.26184559 0.26088715\n",
      " 0.25912094 0.26029158 0.25884604 0.25813103 0.25197077 0.25956917\n",
      " 0.25708914 0.25395608 0.254601   0.25544977 0.25599456 0.25635672\n",
      " 0.25843239 0.25410891 0.25687242 0.27466726 0.26214695 0.26049995\n",
      " 0.25882101 0.25938487 0.25603032 0.25832891 0.26012826 0.25895548\n",
      " 0.25708508 0.25445986 0.25923777 0.25738335 0.2583127  0.26250982\n",
      " 0.25171494 0.25383902 0.25716066 0.25599432 0.25607991 0.25655246\n",
      " 0.2566967 ]\n"
     ]
    }
   ],
   "source": [
    "print(timePerplexity)"
   ]
  },
  {
   "cell_type": "code",
   "execution_count": 104,
   "id": "039a4ac1-2aca-46e9-89f5-af24c285d7d3",
   "metadata": {},
   "outputs": [
    {
     "data": {
      "image/png": "[encoded data removed]",
      "text/plain": [
       "<Figure size 432x288 with 1 Axes>"
      ]
     },
     "metadata": {
      "needs_background": "light"
     },
     "output_type": "display_data"
    }
   ],
   "source": [
    "rango = range(1, 50)\n",
    "plt.plot(rango, accuracyPerplexity, label='ACC kNN con TSNE 4 componentes')\n",
    "\n",
    "plt.legend(loc='best')\n",
    "plt.title(\"Rendimiento de kNN con tSNE y 4 vecinos\")\n",
    "plt.grid(axis='y')\n",
    "plt.xlabel(\"k neighbours\")\n",
    "plt.ylabel(\"Accuracy\")\n",
    "plt.show()"
   ]
  },
  {
   "cell_type": "code",
   "execution_count": 105,
   "id": "f947edb6-bd96-4270-88cc-6462c57a8620",
   "metadata": {
    "tags": []
   },
   "outputs": [
    {
     "name": "stdout",
     "output_type": "stream",
     "text": [
      "k con maximo rendimiento: 18\n"
     ]
    }
   ],
   "source": [
    "max_tsne_perplexity = max(accuracyPerplexity)\n",
    "maxTSNEPerplexity50 = np.where(accuracyPerplexity == max_tsne_perplexity)[0][0] + 1\n",
    "print(f'k con maximo rendimiento: {maxTSNEPerplexity50}')"
   ]
  },
  {
   "cell_type": "markdown",
   "id": "b5a8356c-1e17-49fe-ba15-a8fb0e471f25",
   "metadata": {},
   "source": [
    "#### Estudio iteraciones tSNE"
   ]
  },
  {
   "cell_type": "code",
   "execution_count": 148,
   "id": "cf062610-967a-4c11-b46d-ac1f5271925c",
   "metadata": {
    "collapsed": true,
    "jupyter": {
     "outputs_hidden": true
    },
    "tags": []
   },
   "outputs": [
    {
     "name": "stderr",
     "output_type": "stream",
     "text": [
      "/home/tincho/.local/lib/python3.8/site-packages/sklearn/manifold/_t_sne.py:780: FutureWarning: The default initialization in TSNE will change from 'random' to 'pca' in 1.2.\n",
      "  warnings.warn(\n",
      "/home/tincho/.local/lib/python3.8/site-packages/sklearn/manifold/_t_sne.py:790: FutureWarning: The default learning rate in TSNE will change from 200.0 to 'auto' in 1.2.\n",
      "  warnings.warn(\n",
      "/home/tincho/.local/lib/python3.8/site-packages/sklearn/manifold/_t_sne.py:780: FutureWarning: The default initialization in TSNE will change from 'random' to 'pca' in 1.2.\n",
      "  warnings.warn(\n",
      "/home/tincho/.local/lib/python3.8/site-packages/sklearn/manifold/_t_sne.py:790: FutureWarning: The default learning rate in TSNE will change from 200.0 to 'auto' in 1.2.\n",
      "  warnings.warn(\n",
      "/home/tincho/.local/lib/python3.8/site-packages/sklearn/manifold/_t_sne.py:780: FutureWarning: The default initialization in TSNE will change from 'random' to 'pca' in 1.2.\n",
      "  warnings.warn(\n",
      "/home/tincho/.local/lib/python3.8/site-packages/sklearn/manifold/_t_sne.py:790: FutureWarning: The default learning rate in TSNE will change from 200.0 to 'auto' in 1.2.\n",
      "  warnings.warn(\n",
      "/home/tincho/.local/lib/python3.8/site-packages/sklearn/manifold/_t_sne.py:780: FutureWarning: The default initialization in TSNE will change from 'random' to 'pca' in 1.2.\n",
      "  warnings.warn(\n",
      "/home/tincho/.local/lib/python3.8/site-packages/sklearn/manifold/_t_sne.py:790: FutureWarning: The default learning rate in TSNE will change from 200.0 to 'auto' in 1.2.\n",
      "  warnings.warn(\n"
     ]
    },
    {
     "name": "stdout",
     "output_type": "stream",
     "text": [
      "CPU times: user 14min 21s, sys: 9.28 s, total: 14min 30s\n",
      "Wall time: 2min 37s\n"
     ]
    }
   ],
   "source": [
    "%%time\n",
    "accuracyIterations, timeIterations = estudio_iterations_TSNE(maxKNN100, maxTSNE4, max_tsne_perplexity, 5, X_train, y_train)"
   ]
  },
  {
   "cell_type": "code",
   "execution_count": 149,
   "id": "365f2a56-33ca-44a9-b909-ca23e83b4fac",
   "metadata": {},
   "outputs": [
    {
     "name": "stdout",
     "output_type": "stream",
     "text": [
      "[0.0951 0.1026 0.1027 0.1015]\n"
     ]
    }
   ],
   "source": [
    "print(accuracyIterations)"
   ]
  },
  {
   "cell_type": "code",
   "execution_count": 150,
   "id": "22165577-cc6f-4eb9-a1f2-e8a4159dc82b",
   "metadata": {},
   "outputs": [
    {
     "name": "stdout",
     "output_type": "stream",
     "text": [
      "[0.28059435 0.30836701 0.27073574 0.27144432]\n"
     ]
    }
   ],
   "source": [
    "print(timeIterations)"
   ]
  },
  {
   "cell_type": "markdown",
   "id": "4fe637a3-949e-43dc-b985-bb02e0753cd0",
   "metadata": {},
   "source": [
    "#### Estudo componentes UMAP"
   ]
  },
  {
   "cell_type": "code",
   "execution_count": 106,
   "id": "3cb992ee-de2c-4c69-bd0d-bf04f285c325",
   "metadata": {
    "tags": []
   },
   "outputs": [
    {
     "name": "stdout",
     "output_type": "stream",
     "text": [
      "CPU times: user 1h 40min 27s, sys: 5min 15s, total: 1h 45min 43s\n",
      "Wall time: 20min 14s\n"
     ]
    }
   ],
   "source": [
    "%%time\n",
    "accuracyUMAP100, timeUMAP100 = estudio_componentes_UMAP(100, maxKNN100, X_train, y_train)"
   ]
  },
  {
   "cell_type": "code",
   "execution_count": 107,
   "id": "735f492e-ed71-4357-90fd-212d4d3e8deb",
   "metadata": {},
   "outputs": [
    {
     "name": "stdout",
     "output_type": "stream",
     "text": [
      "[0.7175 0.7612 0.7761 0.7858 0.7847 0.7857 0.7871 0.7855 0.7877 0.7866\n",
      " 0.788  0.7851 0.7879 0.7885 0.7905 0.789  0.787  0.7845 0.7845 0.7883\n",
      " 0.783  0.7861 0.7887 0.7889 0.7863 0.788  0.7875 0.7866 0.7852 0.7871\n",
      " 0.7894 0.7838 0.7879 0.7871 0.7869 0.7844 0.7866 0.7863 0.7848 0.7869\n",
      " 0.7862 0.7855 0.786  0.7889 0.787  0.7867 0.7873 0.7838 0.7859 0.7851\n",
      " 0.7848 0.7886 0.7889 0.7875 0.787  0.79   0.7867 0.79   0.7852 0.7888\n",
      " 0.7899 0.7878 0.7869 0.7859 0.7858 0.7884 0.7888 0.787  0.7878 0.7881\n",
      " 0.7888 0.7894 0.7848 0.7834 0.7884 0.7859 0.7884 0.7876 0.7863 0.7898\n",
      " 0.785  0.7866 0.7872 0.7871 0.7855 0.7855 0.7879 0.7858 0.7854 0.7851\n",
      " 0.7877 0.7849 0.7855 0.7833 0.7852 0.7891 0.7892 0.7885 0.7846]\n"
     ]
    }
   ],
   "source": [
    "print(accuracyUMAP100)"
   ]
  },
  {
   "cell_type": "code",
   "execution_count": 108,
   "id": "fd8a2788-ff7f-4615-aea6-9b21c0ceb3df",
   "metadata": {},
   "outputs": [
    {
     "name": "stdout",
     "output_type": "stream",
     "text": [
      "[0.22598553 0.24662971 0.25402927 0.26803899 0.27374768 0.28424573\n",
      " 0.29571009 0.30632043 0.32117558 0.32205009 0.3357749  0.35303307\n",
      " 0.36319876 0.36704659 0.38465309 1.43722343 1.42456222 1.43382215\n",
      " 1.41467261 1.43724799 1.42820215 1.42813635 1.41112328 1.43429732\n",
      " 1.4171803  1.41543174 1.43054819 1.42905235 1.3809495  1.41520143\n",
      " 1.4228251  1.41987514 1.39046502 1.41780448 1.43452477 1.41767502\n",
      " 1.42023087 1.42426872 1.43028736 1.41140771 1.42290139 1.45695424\n",
      " 1.42101121 1.4377687  1.40617013 1.40503311 1.45278502 1.4401195\n",
      " 1.44055939 1.44988918 1.43614125 1.44804287 1.43822932 1.43513727\n",
      " 1.44897008 1.44744658 1.43748212 1.40556121 1.43434048 1.42152905\n",
      " 1.41208315 1.40230536 1.46175718 1.45073223 1.43585372 1.44305539\n",
      " 1.43674803 1.44840169 1.45837975 1.458987   1.4688468  1.51382494\n",
      " 1.45084143 1.47097969 1.4189384  1.4270606  1.44753218 1.44428563\n",
      " 1.43576241 1.45039892 1.44681764 1.45100212 1.43636823 1.44535899\n",
      " 1.48160076 1.46393967 1.5135386  1.53915524 1.50616527 1.46802402\n",
      " 1.47101927 1.51114631 1.50049281 1.49497342 1.48900056 1.501755\n",
      " 1.47660208 1.48971152 1.47749686]\n"
     ]
    }
   ],
   "source": [
    "print(timeUMAP100)"
   ]
  },
  {
   "cell_type": "code",
   "execution_count": 109,
   "id": "411ce678-c210-4330-b951-10296e436f8a",
   "metadata": {},
   "outputs": [
    {
     "data": {
      "image/png": "[encoded data removed]",
      "text/plain": [
       "<Figure size 432x288 with 1 Axes>"
      ]
     },
     "metadata": {
      "needs_background": "light"
     },
     "output_type": "display_data"
    }
   ],
   "source": [
    "rango = range(1, 100)\n",
    "plt.plot(rango, accuracyUMAP100, label='ACC kNN con UMAP de 1 a 100 componentes')\n",
    "\n",
    "plt.legend(loc='best')\n",
    "plt.title(\"Rendimiento de kNN con UMAP y {maxKNN100} vecinos\")\n",
    "plt.grid(axis='y')\n",
    "plt.xlabel(\"Componentes\")\n",
    "plt.ylabel(\"Accuracy\")\n",
    "plt.show()"
   ]
  },
  {
   "cell_type": "code",
   "execution_count": 110,
   "id": "5843262d-2532-44d5-9601-7efee9319267",
   "metadata": {},
   "outputs": [
    {
     "name": "stdout",
     "output_type": "stream",
     "text": [
      "n componentes con maximo rendimiento: 15\n"
     ]
    }
   ],
   "source": [
    "max_umap_n = max(accuracyUMAP100)\n",
    "maxUMAP100 = np.where(accuracyUMAP100 == max_umap_n)[0][0] + 1\n",
    "print(f'n componentes con maximo rendimiento: {maxUMAP100}')"
   ]
  },
  {
   "cell_type": "code",
   "execution_count": 116,
   "id": "7f702bd9-0d1b-4a1c-a194-2f906beb82ab",
   "metadata": {},
   "outputs": [
    {
     "data": {
      "image/png": "[encoded data removed]",
      "text/plain": [
       "<Figure size 432x288 with 1 Axes>"
      ]
     },
     "metadata": {
      "needs_background": "light"
     },
     "output_type": "display_data"
    }
   ],
   "source": [
    "rango = range(1, 100)\n",
    "plt.plot(range(1, 100), accuracyAlpha150[0:99], color=\"orange\", label='ACC kNN con PCA de 1 a 100 componentes')\n",
    "plt.plot(rango, accuracyUMAP100, label='ACC kNN con UMAP de 1 a 100 componentes')\n",
    "\n",
    "plt.legend(loc='best')\n",
    "plt.title(f\"Rendimiento de kNN con UMAP y {maxKNN100} vecinos\")\n",
    "plt.grid(axis='y')\n",
    "plt.xlabel(\"Componentes\")\n",
    "plt.ylabel(\"Accuracy\")\n",
    "plt.show()"
   ]
  },
  {
   "cell_type": "code",
   "execution_count": 126,
   "id": "ca8cadca-1cf9-4d35-8fb2-27633bcfd7d2",
   "metadata": {},
   "outputs": [
    {
     "data": {
      "image/png": "[encoded data removed]",
      "text/plain": [
       "<Figure size 432x288 with 1 Axes>"
      ]
     },
     "metadata": {
      "needs_background": "light"
     },
     "output_type": "display_data"
    }
   ],
   "source": [
    "rango = range(1, 4)\n",
    "plt.plot(rango, accuracyTSNE4, label='ACC kNN con TSNE', color ='red')\n",
    "plt.plot(rango, accuracyUMAP100[0:3], label='ACC kNN con UMAP')\n",
    "plt.plot(rango, accuracyAlpha150[0:3], color=\"orange\", label='ACC kNN con PCA')\n",
    "\n",
    "\n",
    "plt.legend(loc='best')\n",
    "plt.title(f\"Rendimiento de kNN para cada componente de UMAP, PCA y tSNE con {maxKNN100} vecinos\")\n",
    "plt.grid(axis='y')\n",
    "plt.xlabel(\"Componentes\")\n",
    "plt.ylabel(\"Accuracy\")\n",
    "plt.show()"
   ]
  },
  {
   "cell_type": "code",
   "execution_count": 130,
   "id": "bd5f8b19-20b8-4a77-960c-0ca0cc956bc4",
   "metadata": {},
   "outputs": [
    {
     "data": {
      "image/png": "[encoded data removed]",
      "text/plain": [
       "<Figure size 432x288 with 1 Axes>"
      ]
     },
     "metadata": {
      "needs_background": "light"
     },
     "output_type": "display_data"
    }
   ],
   "source": [
    "rango = range(1, 100)\n",
    "plt.plot(rango, timeUMAP100, label='Tiempo de computo UMAP')\n",
    "\n",
    "plt.plot(rango, timeAlpha150[0:99], label=f'Tiempo de computo PCA')\n",
    "\n",
    "plt.legend(loc='best')\n",
    "plt.title(f\"Comparación tiempo de computo para dimensiones de 1 a 100 (PCA y UMAP)\")\n",
    "plt.grid(axis='y')\n",
    "plt.xlabel(\"Cantidad de Componentes\")\n",
    "plt.ylabel(\"Tiempo de computo (segundos)\")\n",
    "plt.show()"
   ]
  },
  {
   "cell_type": "code",
   "execution_count": 134,
   "id": "6c70f2b2-f718-4d97-a566-38d4cac3e4bf",
   "metadata": {},
   "outputs": [
    {
     "data": {
      "image/png": "[encoded data removed]",
      "text/plain": [
       "<Figure size 432x288 with 1 Axes>"
      ]
     },
     "metadata": {
      "needs_background": "light"
     },
     "output_type": "display_data"
    }
   ],
   "source": [
    "rango = range(1, 4)\n",
    "plt.plot(rango, timeUMAP100[0:3], label='Tiempo de computo UMAP')\n",
    "plt.plot(rango, timeAlpha150[0:3], label=f'Tiempo de computo PCA')\n",
    "plt.plot(rango, timeTSNE4, label=f'Tiempo de computo tSNE', color='red')\n",
    "\n",
    "plt.legend(loc='best')\n",
    "plt.title(f\"Comparación tiempo de computo para dimensiones de 1 a 100 (PCA, tSNE y UMAP)\")\n",
    "plt.grid(axis='y')\n",
    "plt.xlabel(\"Cantidad de Componentes\")\n",
    "plt.ylabel(\"Tiempo de computo (segundos)\")\n",
    "plt.show()"
   ]
  },
  {
   "cell_type": "markdown",
   "id": "815c95c9-7ece-4ab4-80b7-27d299287f11",
   "metadata": {},
   "source": [
    "#### Estudo Minima Distancia UMAP"
   ]
  },
  {
   "cell_type": "code",
   "execution_count": 152,
   "id": "6332eb72-4778-4d7d-b98d-d877ddbd6bb7",
   "metadata": {
    "tags": []
   },
   "outputs": [
    {
     "name": "stdout",
     "output_type": "stream",
     "text": [
      "CPU times: user 36min 17s, sys: 27.5 s, total: 36min 44s\n",
      "Wall time: 7min 51s\n"
     ]
    }
   ],
   "source": [
    "%%time\n",
    "accuracyDistUMAP, timeDistUMAP = estudio_min_dist_UMAP(maxKNN100, maxUMAP100, 50, X_train, y_train)"
   ]
  },
  {
   "cell_type": "code",
   "execution_count": 153,
   "id": "7b0425ae-159c-42f1-a692-2ec63115b035",
   "metadata": {},
   "outputs": [
    {
     "name": "stdout",
     "output_type": "stream",
     "text": [
      "[0.7896 0.7876 0.7884 0.7876 0.7904 0.7876 0.7919 0.7902 0.7915 0.7923\n",
      " 0.7886 0.7924 0.792  0.7931 0.7929 0.7942 0.7939 0.795  0.7915 0.7956\n",
      " 0.7946 0.7935 0.7959 0.7966 0.7985 0.7967 0.7962 0.7967 0.7944 0.7977\n",
      " 0.7992 0.7988 0.7993 0.7983 0.7992 0.8008 0.7986 0.8011 0.7992 0.8019\n",
      " 0.7989 0.8018 0.8015 0.7987 0.8019 0.8031 0.8017 0.8003 0.8029 0.8033]\n"
     ]
    }
   ],
   "source": [
    "print(accuracyDistUMAP)"
   ]
  },
  {
   "cell_type": "code",
   "execution_count": 156,
   "id": "163dd493-4c16-475e-93f1-930f6089d159",
   "metadata": {},
   "outputs": [
    {
     "name": "stdout",
     "output_type": "stream",
     "text": [
      "[0.42626953 0.38678527 0.38819551 0.40492105 0.41494322 0.39277244\n",
      " 0.39578676 0.391083   0.41450524 0.39871502 0.3916769  0.3972435\n",
      " 0.39534998 0.39721727 0.42482591 0.39908576 0.41000414 0.40095949\n",
      " 0.44881248 0.41538572 0.4361701  0.41400313 0.43030405 0.42581296\n",
      " 0.41305852 0.4210403  0.43632984 0.44834733 0.42297339 0.42253065\n",
      " 0.42899585 0.42182159 0.42292666 0.42895579 0.42181683 0.42962885\n",
      " 0.42215419 0.42841506 0.43197989 0.43839765 0.42725444 0.42953157\n",
      " 0.45062804 0.43423939 0.44312739 0.45565867 0.44790053 0.4504118\n",
      " 0.46208954 0.44847703]\n"
     ]
    }
   ],
   "source": [
    "print(timeDistUMAP)"
   ]
  },
  {
   "cell_type": "code",
   "execution_count": 154,
   "id": "78bda0c2-06e2-4b83-a475-06e919cbcdea",
   "metadata": {},
   "outputs": [
    {
     "name": "stdout",
     "output_type": "stream",
     "text": [
      "[0.1 0.2 0.3 0.4 0.5 0.6 0.7 0.8 0.9 1. ]\n"
     ]
    }
   ],
   "source": [
    "print(np.linspace(0.1,1,10))"
   ]
  },
  {
   "cell_type": "code",
   "execution_count": 171,
   "id": "9a6fa7fe-e650-4e67-8dc7-ccf93e768534",
   "metadata": {},
   "outputs": [
    {
     "data": {
      "text/plain": [
       "Text(0.5, 1.0, 'Minima distancia UMAP con reduccion a 15 componentes y 7 vecinos')"
      ]
     },
     "execution_count": 171,
     "metadata": {},
     "output_type": "execute_result"
    },
    {
     "data": {
      "image/png": "[encoded data removed]",
      "text/plain": [
       "<Figure size 432x288 with 1 Axes>"
      ]
     },
     "metadata": {
      "needs_background": "light"
     },
     "output_type": "display_data"
    }
   ],
   "source": [
    "rango = np.linspace(0.1,1,50)\n",
    "plt.plot(rango, accuracyDistUMAP, label='Min dist UMAP')\n",
    "plt.title(f\"Minima distancia UMAP con reduccion a {maxUMAP100} componentes y {maxKNN100} vecinos\")"
   ]
  },
  {
   "cell_type": "code",
   "execution_count": 198,
   "id": "2235ed0e-f98a-40ae-bd1f-f8cfd3c68981",
   "metadata": {},
   "outputs": [
    {
     "name": "stdout",
     "output_type": "stream",
     "text": [
      "[0.7896 0.7876 0.7884 0.7876 0.7904 0.7876 0.7919 0.7902 0.7915 0.7923\n",
      " 0.7886 0.7924 0.792  0.7931 0.7929 0.7942 0.7939 0.795  0.7915 0.7956\n",
      " 0.7946 0.7935 0.7959 0.7966 0.7985 0.7967 0.7962 0.7967 0.7944 0.7977\n",
      " 0.7992 0.7988 0.7993 0.7983 0.7992 0.8008 0.7986 0.8011 0.7992 0.8019\n",
      " 0.7989 0.8018 0.8015 0.7987 0.8019 0.8031 0.8017 0.8003 0.8029 0.8033]\n"
     ]
    }
   ],
   "source": [
    "print(accuracyDistUMAP)"
   ]
  },
  {
   "cell_type": "code",
   "execution_count": 213,
   "id": "0b8728b5-b06b-40b5-b733-ac741263dc4a",
   "metadata": {},
   "outputs": [
    {
     "name": "stdout",
     "output_type": "stream",
     "text": [
      "minima distancia con maximo rendimiento: 1.0\n"
     ]
    }
   ],
   "source": [
    "max_umap_dist = max(accuracyDistUMAP)\n",
    "distList = np.linspace(0.1,1,50)\n",
    "maxUMAPDist20 = np.where(accuracyDistUMAP == max_umap_dist)[0][0]\n",
    "print(f'minima distancia con maximo rendimiento: {distList[maxUMAPDist20]}')"
   ]
  },
  {
   "cell_type": "code",
   "execution_count": 212,
   "id": "7f0893cc-132f-4683-ad16-3f4e53cbaa53",
   "metadata": {},
   "outputs": [
    {
     "name": "stdout",
     "output_type": "stream",
     "text": [
      "49\n"
     ]
    }
   ],
   "source": [
    "print(maxUMAPDist20[0][0])"
   ]
  },
  {
   "cell_type": "markdown",
   "id": "8a4d8345-40dc-4b10-bd29-adfc9e30962b",
   "metadata": {},
   "source": [
    "## Elijo mejores resultados de accuracy para kNN solo, PCA, t-SNE y UMAP para varias muestras y checkeo su tiempo de ejecucion"
   ]
  },
  {
   "cell_type": "markdown",
   "id": "3434411b-407a-4523-b5ba-5c502649407b",
   "metadata": {},
   "source": [
    "### Estudio muestras"
   ]
  },
  {
   "cell_type": "code",
   "execution_count": 155,
   "id": "20f69f69-488f-44d6-83cc-c6aaefc00a1f",
   "metadata": {},
   "outputs": [],
   "source": [
    "# No se por que el kernel se muere cuando hago esta funcion\n",
    "#def muestra(cant):\n",
    "#    df_train_custom = df_train_total.sample(cant)\n",
    "#    X_custom = df_train_custom[df_train_custom.columns[1:]].values\n",
    "#    y_custom = df_train_custom[\"label\"].values\n",
    "    \n",
    "#    return df_train_custom, X_custom, y_custom"
   ]
  },
  {
   "cell_type": "code",
   "execution_count": 244,
   "id": "b9c321e6-656b-4fca-a284-2f1293e1f66f",
   "metadata": {},
   "outputs": [],
   "source": [
    "def estudioMuestra(muestras):\n",
    "    accuracyKNN = []\n",
    "    accuracyPCA = []\n",
    "    accuracyTSNE = []\n",
    "    accuracyUMAP = [] \n",
    "    \n",
    "    timeKNN = [] \n",
    "    timePCA = [] \n",
    "    timeTSNE = [] \n",
    "    timeUMAP = [] \n",
    "    \n",
    "    for i in range(0, muestras.size):\n",
    "        df_train_custom, X_custom, y_custom = muestra(muestras[i])\n",
    "        start = time.time()\n",
    "        accuracyKNN.append(KFoldKNN(maxKNN100, X_custom, y_custom))\n",
    "        end = time.time()\n",
    "        timeKNN.append(end-start)   \n",
    "        \n",
    "        start = time.time()\n",
    "        myPCA = PCA(n_components=maxAlpha150)\n",
    "        myPCA.fit(X_custom)\n",
    "        X_PCA_train = myPCA.transform(X_custom)\n",
    "        accuracyPCA.append(KFoldKNN(maxKNN100, X_PCA_train, y_custom))\n",
    "        end = time.time()\n",
    "        timePCA.append(end-start)   \n",
    "        \n",
    "        start = time.time()\n",
    "        myTSNE = TSNE(n_components = maxTSNE4, perplexity = maxTSNEPerplexity50)\n",
    "        X_TSNE_train = myTSNE.fit_transform(X_custom)\n",
    "        accuracyTSNE.append(KFoldKNN(maxKNN100, X_TSNE_train, y_custom))\n",
    "        end = time.time()\n",
    "        timeTSNE.append(end-start)  \n",
    "        \n",
    "        start = time.time()\n",
    "        UMAP = umap.UMAP(n_components=maxUMAP100, min_dist=0.99)\n",
    "        X_UMAP_train = UMAP.fit_transform(X_custom)\n",
    "        accuracyUMAP.append(KFoldKNN(maxKNN100, X_UMAP_train, y_custom))\n",
    "        end = time.time()\n",
    "        timeUMAP.append(end-start) \n",
    "        \n",
    "    accuracyKNN = np.asarray(accuracyKNN)\n",
    "    accuracyPCA = np.asarray(accuracyPCA)\n",
    "    accuracyTSNE = np.asarray(accuracyTSNE)\n",
    "    accuracyUMAP = np.asarray(accuracyUMAP)\n",
    "    \n",
    "    timeKNN = np.asarray(timeKNN)\n",
    "    timePCA = np.asarray(timePCA)\n",
    "    timeTSNE = np.asarray(timeTSNE)\n",
    "    timeUMAP = np.asarray(timeUMAP)\n",
    "    return accuracyKNN, accuracyPCA, accuracyTSNE, accuracyUMAP, timeKNN, timePCA, timeTSNE, timeUMAP\n",
    "    "
   ]
  },
  {
   "cell_type": "code",
   "execution_count": 245,
   "id": "1ff6b09b-a8bc-4d69-9bde-410475c29114",
   "metadata": {},
   "outputs": [
    {
     "name": "stdout",
     "output_type": "stream",
     "text": [
      "[5000]\n"
     ]
    }
   ],
   "source": [
    "print(np.array([5000]))"
   ]
  },
  {
   "cell_type": "code",
   "execution_count": 254,
   "id": "bf8cf089-dd15-45f0-923a-f4a93c454d78",
   "metadata": {
    "tags": []
   },
   "outputs": [
    {
     "name": "stderr",
     "output_type": "stream",
     "text": [
      "/home/tincho/.local/lib/python3.8/site-packages/sklearn/manifold/_t_sne.py:780: FutureWarning: The default initialization in TSNE will change from 'random' to 'pca' in 1.2.\n",
      "  warnings.warn(\n",
      "/home/tincho/.local/lib/python3.8/site-packages/sklearn/manifold/_t_sne.py:790: FutureWarning: The default learning rate in TSNE will change from 200.0 to 'auto' in 1.2.\n",
      "  warnings.warn(\n",
      "/home/tincho/.local/lib/python3.8/site-packages/sklearn/manifold/_t_sne.py:780: FutureWarning: The default initialization in TSNE will change from 'random' to 'pca' in 1.2.\n",
      "  warnings.warn(\n",
      "/home/tincho/.local/lib/python3.8/site-packages/sklearn/manifold/_t_sne.py:790: FutureWarning: The default learning rate in TSNE will change from 200.0 to 'auto' in 1.2.\n",
      "  warnings.warn(\n",
      "/home/tincho/.local/lib/python3.8/site-packages/sklearn/manifold/_t_sne.py:780: FutureWarning: The default initialization in TSNE will change from 'random' to 'pca' in 1.2.\n",
      "  warnings.warn(\n",
      "/home/tincho/.local/lib/python3.8/site-packages/sklearn/manifold/_t_sne.py:790: FutureWarning: The default learning rate in TSNE will change from 200.0 to 'auto' in 1.2.\n",
      "  warnings.warn(\n",
      "/home/tincho/.local/lib/python3.8/site-packages/sklearn/manifold/_t_sne.py:780: FutureWarning: The default initialization in TSNE will change from 'random' to 'pca' in 1.2.\n",
      "  warnings.warn(\n",
      "/home/tincho/.local/lib/python3.8/site-packages/sklearn/manifold/_t_sne.py:790: FutureWarning: The default learning rate in TSNE will change from 200.0 to 'auto' in 1.2.\n",
      "  warnings.warn(\n",
      "/home/tincho/.local/lib/python3.8/site-packages/sklearn/manifold/_t_sne.py:780: FutureWarning: The default initialization in TSNE will change from 'random' to 'pca' in 1.2.\n",
      "  warnings.warn(\n",
      "/home/tincho/.local/lib/python3.8/site-packages/sklearn/manifold/_t_sne.py:790: FutureWarning: The default learning rate in TSNE will change from 200.0 to 'auto' in 1.2.\n",
      "  warnings.warn(\n",
      "/home/tincho/.local/lib/python3.8/site-packages/sklearn/manifold/_t_sne.py:780: FutureWarning: The default initialization in TSNE will change from 'random' to 'pca' in 1.2.\n",
      "  warnings.warn(\n",
      "/home/tincho/.local/lib/python3.8/site-packages/sklearn/manifold/_t_sne.py:790: FutureWarning: The default learning rate in TSNE will change from 200.0 to 'auto' in 1.2.\n",
      "  warnings.warn(\n"
     ]
    },
    {
     "name": "stdout",
     "output_type": "stream",
     "text": [
      "CPU times: user 1h 21min 21s, sys: 4min 27s, total: 1h 25min 48s\n",
      "Wall time: 17min 10s\n"
     ]
    }
   ],
   "source": [
    "%%time\n",
    "misMuestras = np.array([1000, 5000, 10000, 20000, 30000, 40000, 50000, 60000])\n",
    "accuracyKNNPRUEBA, accuracyPCAPRUEBA, accuracyTSNEPRUEBA, accuracyUMAPPRUEBA, timeKNNPRUEBA, timePCAPRUEBA, timeTSNEPRUEBA, timeUMAPPRUEBA = estudioMuestra(misMuestras)"
   ]
  },
  {
   "cell_type": "code",
   "execution_count": 258,
   "id": "029cdf14-9d90-4177-822c-525a053ff1ec",
   "metadata": {},
   "outputs": [
    {
     "data": {
      "image/png": "[encoded data removed]",
      "text/plain": [
       "<Figure size 432x288 with 1 Axes>"
      ]
     },
     "metadata": {
      "needs_background": "light"
     },
     "output_type": "display_data"
    },
    {
     "data": {
      "text/plain": [
       "<Figure size 432x288 with 0 Axes>"
      ]
     },
     "metadata": {},
     "output_type": "display_data"
    }
   ],
   "source": [
    "rangoMuestra = misMuestras\n",
    "plt.scatter(rangoMuestra, accuracyKNNPRUEBA, label='kNN')\n",
    "plt.scatter(rangoMuestra, accuracyPCAPRUEBA, label='kNN y PCA')\n",
    "plt.scatter(rangoMuestra, accuracyTSNEPRUEBA, label='kNN y tSNE')\n",
    "plt.scatter(rangoMuestra, accuracyUMAPPRUEBA, label='kNN y UMAP')\n",
    "#plt.plot(rangoMuestra, accuracyIV, label='muestra=10000')\n",
    "plt.xlabel(\"Tamano de la muestra\")\n",
    "plt.ylabel(\"Accuracy\")\n",
    "plt.legend(loc='best')\n",
    "plt.title(\"Performance de los clasificadores variando la muestra de datos\")\n",
    "plt.show()\n",
    "plt.savefig(\"Imagenes/muestraaccuracy.png\")"
   ]
  },
  {
   "cell_type": "code",
   "execution_count": 259,
   "id": "95e0aba0-4afb-42d2-8251-c0d96dccd9db",
   "metadata": {},
   "outputs": [
    {
     "data": {
      "image/png": "[encoded data removed]",
      "text/plain": [
       "<Figure size 432x288 with 1 Axes>"
      ]
     },
     "metadata": {
      "needs_background": "light"
     },
     "output_type": "display_data"
    },
    {
     "data": {
      "text/plain": [
       "<Figure size 432x288 with 0 Axes>"
      ]
     },
     "metadata": {},
     "output_type": "display_data"
    }
   ],
   "source": [
    "rangoMuestra = misMuestras\n",
    "plt.scatter(rangoMuestra, timeKNNPRUEBA, label='kNN')\n",
    "plt.scatter(rangoMuestra, timePCAPRUEBA, label='kNN y PCA')\n",
    "plt.scatter(rangoMuestra, timeTSNEPRUEBA, label='kNN y tSNE')\n",
    "plt.scatter(rangoMuestra, timeUMAPPRUEBA, label='kNN y UMAP')\n",
    "#plt.plot(rangoMuestra, accuracyIV, label='muestra=10000')\n",
    "plt.xlabel(\"Tamano de la muestra\")\n",
    "plt.ylabel(\"Segundos\")\n",
    "plt.legend(loc='best')\n",
    "plt.title(\"Tiempo de computo de los clasificadores variando la muestra de datos\")\n",
    "plt.show()\n",
    "plt.savefig(\"Imagenes/muestratiempos.png\")"
   ]
  },
  {
   "cell_type": "markdown",
   "id": "72d80013-7a72-42be-9897-3759e59c2580",
   "metadata": {},
   "source": [
    "#### Grafico todos los tipos de muestra para ver en que se diferencia su performance "
   ]
  },
  {
   "cell_type": "code",
   "execution_count": 257,
   "id": "72bec872-41d5-4c5f-9dd1-69d30698b1a0",
   "metadata": {},
   "outputs": [
    {
     "ename": "NameError",
     "evalue": "name 'accuracyI' is not defined",
     "output_type": "error",
     "traceback": [
      "\u001b[0;31m---------------------------------------------------------------------------\u001b[0m",
      "\u001b[0;31mNameError\u001b[0m                                 Traceback (most recent call last)",
      "\u001b[0;32m<ipython-input-257-0b0db689100f>\u001b[0m in \u001b[0;36m<module>\u001b[0;34m\u001b[0m\n\u001b[1;32m      1\u001b[0m \u001b[0mrangoMuestra\u001b[0m \u001b[0;34m=\u001b[0m \u001b[0mrange\u001b[0m\u001b[0;34m(\u001b[0m\u001b[0;36m1\u001b[0m\u001b[0;34m,\u001b[0m \u001b[0;36m50\u001b[0m\u001b[0;34m)\u001b[0m\u001b[0;34m\u001b[0m\u001b[0;34m\u001b[0m\u001b[0m\n\u001b[0;32m----> 2\u001b[0;31m \u001b[0mplt\u001b[0m\u001b[0;34m.\u001b[0m\u001b[0mplot\u001b[0m\u001b[0;34m(\u001b[0m\u001b[0mrangoMuestra\u001b[0m\u001b[0;34m,\u001b[0m \u001b[0maccuracyI\u001b[0m\u001b[0;34m,\u001b[0m \u001b[0mlabel\u001b[0m\u001b[0;34m=\u001b[0m\u001b[0;34m'muestra=1000'\u001b[0m\u001b[0;34m)\u001b[0m\u001b[0;34m\u001b[0m\u001b[0;34m\u001b[0m\u001b[0m\n\u001b[0m\u001b[1;32m      3\u001b[0m \u001b[0mplt\u001b[0m\u001b[0;34m.\u001b[0m\u001b[0mplot\u001b[0m\u001b[0;34m(\u001b[0m\u001b[0mrangoMuestra\u001b[0m\u001b[0;34m,\u001b[0m \u001b[0maccuracyII\u001b[0m\u001b[0;34m,\u001b[0m \u001b[0mlabel\u001b[0m\u001b[0;34m=\u001b[0m\u001b[0;34m'muestra=2500'\u001b[0m\u001b[0;34m)\u001b[0m\u001b[0;34m\u001b[0m\u001b[0;34m\u001b[0m\u001b[0m\n\u001b[1;32m      4\u001b[0m \u001b[0mplt\u001b[0m\u001b[0;34m.\u001b[0m\u001b[0mplot\u001b[0m\u001b[0;34m(\u001b[0m\u001b[0mrangoMuestra\u001b[0m\u001b[0;34m,\u001b[0m \u001b[0maccuracyIII\u001b[0m\u001b[0;34m,\u001b[0m \u001b[0mlabel\u001b[0m\u001b[0;34m=\u001b[0m\u001b[0;34m'muestra=5000'\u001b[0m\u001b[0;34m)\u001b[0m\u001b[0;34m\u001b[0m\u001b[0;34m\u001b[0m\u001b[0m\n\u001b[1;32m      5\u001b[0m \u001b[0mplt\u001b[0m\u001b[0;34m.\u001b[0m\u001b[0mplot\u001b[0m\u001b[0;34m(\u001b[0m\u001b[0mrangoMuestra\u001b[0m\u001b[0;34m,\u001b[0m \u001b[0maccuracyIV\u001b[0m\u001b[0;34m,\u001b[0m \u001b[0mlabel\u001b[0m\u001b[0;34m=\u001b[0m\u001b[0;34m'muestra=10000'\u001b[0m\u001b[0;34m)\u001b[0m\u001b[0;34m\u001b[0m\u001b[0;34m\u001b[0m\u001b[0m\n",
      "\u001b[0;31mNameError\u001b[0m: name 'accuracyI' is not defined"
     ]
    }
   ],
   "source": [
    "rangoMuestra = range(1, 50)\n",
    "plt.plot(rangoMuestra, accuracyI, label='muestra=1000')\n",
    "plt.plot(rangoMuestra, accuracyII, label='muestra=2500')\n",
    "plt.plot(rangoMuestra, accuracyIII, label='muestra=5000')\n",
    "plt.plot(rangoMuestra, accuracyIV, label='muestra=10000')\n",
    "plt.legend(loc='best')\n",
    "plt.xlabel(\"k (vecinos)\")\n",
    "plt.ylabel(\"Accuracy\")\n",
    "#plt.xticks(rangoMuestra)\n",
    "plt.title(\"Performance métrica accuracy dependiendo del tamaño de la muestra\")\n",
    "leg = plt.legend(loc='lower left')\n",
    "plt.show()\n",
    "plt.savefig(\"Imagenes/muestra.png\")"
   ]
  },
  {
   "cell_type": "markdown",
   "id": "2ea30c9a-a4ef-47b0-a2e4-ba4b8cd4cec5",
   "metadata": {},
   "source": [
    "### Best kNN solo"
   ]
  },
  {
   "cell_type": "markdown",
   "id": "38b1364b-ada4-449a-9917-dc04d603ded7",
   "metadata": {},
   "source": [
    "### Best kNN con PCA"
   ]
  },
  {
   "cell_type": "markdown",
   "id": "6018c49c-dda3-4716-9046-726f823cddfe",
   "metadata": {},
   "source": [
    "### Best kNN con t-SNE"
   ]
  },
  {
   "cell_type": "markdown",
   "id": "4a9290f1-ef01-4ced-b77d-ec300512f763",
   "metadata": {},
   "source": [
    "### Best kNN con UMAP"
   ]
  }
 ],
 "metadata": {
  "kernelspec": {
   "display_name": "Python 3",
   "language": "python",
   "name": "python3"
  },
  "language_info": {
   "codemirror_mode": {
    "name": "ipython",
    "version": 3
   },
   "file_extension": ".py",
   "mimetype": "text/x-python",
   "name": "python",
   "nbconvert_exporter": "python",
   "pygments_lexer": "ipython3",
   "version": "3.8.10"
  }
 },
 "nbformat": 4,
 "nbformat_minor": 5
}
